{
 "cells": [
  {
   "cell_type": "code",
   "execution_count": 1,
   "id": "b5a3acd8",
   "metadata": {},
   "outputs": [],
   "source": [
    "import pandas as pd\n",
    "import numpy as np\n",
    "import bamboolib as bam"
   ]
  },
  {
   "cell_type": "code",
   "execution_count": 2,
   "id": "a4a23152",
   "metadata": {},
   "outputs": [
    {
     "name": "stdout",
     "output_type": "stream",
     "text": [
      "Success: the bamboolib extension was enabled successfully. You can disable it via 'bam.disable()'. You will now see a magic bamboolib button when you display your dataframes, for example via 'df'\n"
     ]
    },
    {
     "data": {
      "application/vnd.jupyter.widget-view+json": {
       "model_id": "2baa03898f2f40ec81411ce0ebe603c1"
      },
      "text/html": [
       "<div>\n",
       "<style scoped>\n",
       "    .dataframe tbody tr th:only-of-type {\n",
       "        vertical-align: middle;\n",
       "    }\n",
       "\n",
       "    .dataframe tbody tr th {\n",
       "        vertical-align: top;\n",
       "    }\n",
       "\n",
       "    .dataframe thead th {\n",
       "        text-align: right;\n",
       "    }\n",
       "</style>\n",
       "<table border=\"1\" class=\"dataframe\">\n",
       "  <thead>\n",
       "    <tr style=\"text-align: right;\">\n",
       "      <th></th>\n",
       "      <th>Unnamed: 0</th>\n",
       "      <th>v_id</th>\n",
       "      <th>v_Q001</th>\n",
       "      <th>v_adm_dir_ind</th>\n",
       "      <th>v_orgao_central</th>\n",
       "      <th>v_Q005</th>\n",
       "      <th>v_Q007_SQ025</th>\n",
       "      <th>v_Q007_SQ002</th>\n",
       "      <th>v_Q007_SQ003</th>\n",
       "      <th>v_Q007_SQ005</th>\n",
       "      <th>...</th>\n",
       "      <th>v_Q02562_SQ004</th>\n",
       "      <th>v_Q02562_SQ005</th>\n",
       "      <th>v_Q02562_SQ006</th>\n",
       "      <th>v_Q02562_SQ007</th>\n",
       "      <th>v_Q02562_SQ008</th>\n",
       "      <th>v_Q02562_SQ009</th>\n",
       "      <th>v_Q02562_SQ010</th>\n",
       "      <th>v_Q02562_other</th>\n",
       "      <th>v_Q0256</th>\n",
       "      <th>v_Q026</th>\n",
       "    </tr>\n",
       "  </thead>\n",
       "  <tbody>\n",
       "    <tr>\n",
       "      <th>0</th>\n",
       "      <td>1</td>\n",
       "      <td>347</td>\n",
       "      <td>AEB</td>\n",
       "      <td>INDIRETA</td>\n",
       "      <td>MCTIC</td>\n",
       "      <td>1.0</td>\n",
       "      <td>0</td>\n",
       "      <td>0</td>\n",
       "      <td>0</td>\n",
       "      <td>1</td>\n",
       "      <td>...</td>\n",
       "      <td>0.0</td>\n",
       "      <td>0.0</td>\n",
       "      <td>0.0</td>\n",
       "      <td>0.0</td>\n",
       "      <td>0.0</td>\n",
       "      <td>0.0</td>\n",
       "      <td>0.0</td>\n",
       "      <td>NaN</td>\n",
       "      <td>NaN</td>\n",
       "      <td>1</td>\n",
       "    </tr>\n",
       "    <tr>\n",
       "      <th>1</th>\n",
       "      <td>2</td>\n",
       "      <td>343</td>\n",
       "      <td>AEB</td>\n",
       "      <td>INDIRETA</td>\n",
       "      <td>MCTIC</td>\n",
       "      <td>1.0</td>\n",
       "      <td>0</td>\n",
       "      <td>1</td>\n",
       "      <td>1</td>\n",
       "      <td>1</td>\n",
       "      <td>...</td>\n",
       "      <td>0.0</td>\n",
       "      <td>0.0</td>\n",
       "      <td>0.0</td>\n",
       "      <td>0.0</td>\n",
       "      <td>0.0</td>\n",
       "      <td>0.0</td>\n",
       "      <td>0.0</td>\n",
       "      <td>NaN</td>\n",
       "      <td>NaN</td>\n",
       "      <td>1</td>\n",
       "    </tr>\n",
       "    <tr>\n",
       "      <th>2</th>\n",
       "      <td>3</td>\n",
       "      <td>354</td>\n",
       "      <td>AEB</td>\n",
       "      <td>INDIRETA</td>\n",
       "      <td>MCTIC</td>\n",
       "      <td>1.0</td>\n",
       "      <td>0</td>\n",
       "      <td>0</td>\n",
       "      <td>0</td>\n",
       "      <td>0</td>\n",
       "      <td>...</td>\n",
       "      <td>0.0</td>\n",
       "      <td>0.0</td>\n",
       "      <td>0.0</td>\n",
       "      <td>0.0</td>\n",
       "      <td>0.0</td>\n",
       "      <td>0.0</td>\n",
       "      <td>0.0</td>\n",
       "      <td>NaN</td>\n",
       "      <td>NaN</td>\n",
       "      <td>2</td>\n",
       "    </tr>\n",
       "    <tr>\n",
       "      <th>3</th>\n",
       "      <td>4</td>\n",
       "      <td>325</td>\n",
       "      <td>AEB</td>\n",
       "      <td>INDIRETA</td>\n",
       "      <td>MCTIC</td>\n",
       "      <td>1.0</td>\n",
       "      <td>0</td>\n",
       "      <td>0</td>\n",
       "      <td>1</td>\n",
       "      <td>0</td>\n",
       "      <td>...</td>\n",
       "      <td>0.0</td>\n",
       "      <td>0.0</td>\n",
       "      <td>0.0</td>\n",
       "      <td>0.0</td>\n",
       "      <td>0.0</td>\n",
       "      <td>0.0</td>\n",
       "      <td>0.0</td>\n",
       "      <td>0.0</td>\n",
       "      <td>NaN</td>\n",
       "      <td>1</td>\n",
       "    </tr>\n",
       "    <tr>\n",
       "      <th>4</th>\n",
       "      <td>5</td>\n",
       "      <td>369</td>\n",
       "      <td>AEB</td>\n",
       "      <td>INDIRETA</td>\n",
       "      <td>MCTIC</td>\n",
       "      <td>1.0</td>\n",
       "      <td>0</td>\n",
       "      <td>0</td>\n",
       "      <td>1</td>\n",
       "      <td>0</td>\n",
       "      <td>...</td>\n",
       "      <td>0.0</td>\n",
       "      <td>0.0</td>\n",
       "      <td>0.0</td>\n",
       "      <td>0.0</td>\n",
       "      <td>0.0</td>\n",
       "      <td>0.0</td>\n",
       "      <td>0.0</td>\n",
       "      <td>0.0</td>\n",
       "      <td>NaN</td>\n",
       "      <td>1</td>\n",
       "    </tr>\n",
       "    <tr>\n",
       "      <th>...</th>\n",
       "      <td>...</td>\n",
       "      <td>...</td>\n",
       "      <td>...</td>\n",
       "      <td>...</td>\n",
       "      <td>...</td>\n",
       "      <td>...</td>\n",
       "      <td>...</td>\n",
       "      <td>...</td>\n",
       "      <td>...</td>\n",
       "      <td>...</td>\n",
       "      <td>...</td>\n",
       "      <td>...</td>\n",
       "      <td>...</td>\n",
       "      <td>...</td>\n",
       "      <td>...</td>\n",
       "      <td>...</td>\n",
       "      <td>...</td>\n",
       "      <td>...</td>\n",
       "      <td>...</td>\n",
       "      <td>...</td>\n",
       "      <td>...</td>\n",
       "    </tr>\n",
       "    <tr>\n",
       "      <th>1735</th>\n",
       "      <td>1736</td>\n",
       "      <td>149</td>\n",
       "      <td>SUDENE</td>\n",
       "      <td>INDIRETA</td>\n",
       "      <td>MI</td>\n",
       "      <td>2.0</td>\n",
       "      <td>0</td>\n",
       "      <td>1</td>\n",
       "      <td>0</td>\n",
       "      <td>1</td>\n",
       "      <td>...</td>\n",
       "      <td>0.0</td>\n",
       "      <td>0.0</td>\n",
       "      <td>0.0</td>\n",
       "      <td>0.0</td>\n",
       "      <td>0.0</td>\n",
       "      <td>0.0</td>\n",
       "      <td>0.0</td>\n",
       "      <td>NaN</td>\n",
       "      <td>NaN</td>\n",
       "      <td>3</td>\n",
       "    </tr>\n",
       "    <tr>\n",
       "      <th>1736</th>\n",
       "      <td>1737</td>\n",
       "      <td>187</td>\n",
       "      <td>SUSEP</td>\n",
       "      <td>INDIRETA</td>\n",
       "      <td>MF</td>\n",
       "      <td>2.0</td>\n",
       "      <td>0</td>\n",
       "      <td>0</td>\n",
       "      <td>1</td>\n",
       "      <td>0</td>\n",
       "      <td>...</td>\n",
       "      <td>0.0</td>\n",
       "      <td>0.0</td>\n",
       "      <td>0.0</td>\n",
       "      <td>0.0</td>\n",
       "      <td>0.0</td>\n",
       "      <td>0.0</td>\n",
       "      <td>0.0</td>\n",
       "      <td>NaN</td>\n",
       "      <td>NaN</td>\n",
       "      <td>2</td>\n",
       "    </tr>\n",
       "    <tr>\n",
       "      <th>1737</th>\n",
       "      <td>1738</td>\n",
       "      <td>195</td>\n",
       "      <td>SUSEP</td>\n",
       "      <td>INDIRETA</td>\n",
       "      <td>MF</td>\n",
       "      <td>1.0</td>\n",
       "      <td>0</td>\n",
       "      <td>0</td>\n",
       "      <td>1</td>\n",
       "      <td>0</td>\n",
       "      <td>...</td>\n",
       "      <td>0.0</td>\n",
       "      <td>0.0</td>\n",
       "      <td>0.0</td>\n",
       "      <td>0.0</td>\n",
       "      <td>0.0</td>\n",
       "      <td>0.0</td>\n",
       "      <td>0.0</td>\n",
       "      <td>NaN</td>\n",
       "      <td>NaN</td>\n",
       "      <td>2</td>\n",
       "    </tr>\n",
       "    <tr>\n",
       "      <th>1738</th>\n",
       "      <td>1739</td>\n",
       "      <td>213</td>\n",
       "      <td>SUSEP</td>\n",
       "      <td>INDIRETA</td>\n",
       "      <td>MF</td>\n",
       "      <td>1.0</td>\n",
       "      <td>0</td>\n",
       "      <td>0</td>\n",
       "      <td>1</td>\n",
       "      <td>0</td>\n",
       "      <td>...</td>\n",
       "      <td>0.0</td>\n",
       "      <td>0.0</td>\n",
       "      <td>0.0</td>\n",
       "      <td>0.0</td>\n",
       "      <td>0.0</td>\n",
       "      <td>0.0</td>\n",
       "      <td>0.0</td>\n",
       "      <td>NaN</td>\n",
       "      <td>NaN</td>\n",
       "      <td>2</td>\n",
       "    </tr>\n",
       "    <tr>\n",
       "      <th>1739</th>\n",
       "      <td>1740</td>\n",
       "      <td>215</td>\n",
       "      <td>SUSEP</td>\n",
       "      <td>INDIRETA</td>\n",
       "      <td>MF</td>\n",
       "      <td>1.0</td>\n",
       "      <td>0</td>\n",
       "      <td>0</td>\n",
       "      <td>0</td>\n",
       "      <td>0</td>\n",
       "      <td>...</td>\n",
       "      <td>0.0</td>\n",
       "      <td>0.0</td>\n",
       "      <td>0.0</td>\n",
       "      <td>0.0</td>\n",
       "      <td>0.0</td>\n",
       "      <td>0.0</td>\n",
       "      <td>0.0</td>\n",
       "      <td>NaN</td>\n",
       "      <td>NaN</td>\n",
       "      <td>2</td>\n",
       "    </tr>\n",
       "  </tbody>\n",
       "</table>\n",
       "<p>1740 rows × 158 columns</p>\n",
       "</div>"
      ],
      "text/plain": [
       "      Unnamed: 0  v_id  v_Q001 v_adm_dir_ind v_orgao_central  v_Q005  \\\n",
       "0              1   347     AEB      INDIRETA           MCTIC     1.0   \n",
       "1              2   343     AEB      INDIRETA           MCTIC     1.0   \n",
       "2              3   354     AEB      INDIRETA           MCTIC     1.0   \n",
       "3              4   325     AEB      INDIRETA           MCTIC     1.0   \n",
       "4              5   369     AEB      INDIRETA           MCTIC     1.0   \n",
       "...          ...   ...     ...           ...             ...     ...   \n",
       "1735        1736   149  SUDENE      INDIRETA              MI     2.0   \n",
       "1736        1737   187   SUSEP      INDIRETA              MF     2.0   \n",
       "1737        1738   195   SUSEP      INDIRETA              MF     1.0   \n",
       "1738        1739   213   SUSEP      INDIRETA              MF     1.0   \n",
       "1739        1740   215   SUSEP      INDIRETA              MF     1.0   \n",
       "\n",
       "      v_Q007_SQ025  v_Q007_SQ002  v_Q007_SQ003  v_Q007_SQ005  ...  \\\n",
       "0                0             0             0             1  ...   \n",
       "1                0             1             1             1  ...   \n",
       "2                0             0             0             0  ...   \n",
       "3                0             0             1             0  ...   \n",
       "4                0             0             1             0  ...   \n",
       "...            ...           ...           ...           ...  ...   \n",
       "1735             0             1             0             1  ...   \n",
       "1736             0             0             1             0  ...   \n",
       "1737             0             0             1             0  ...   \n",
       "1738             0             0             1             0  ...   \n",
       "1739             0             0             0             0  ...   \n",
       "\n",
       "      v_Q02562_SQ004  v_Q02562_SQ005  v_Q02562_SQ006  v_Q02562_SQ007  \\\n",
       "0                0.0             0.0             0.0             0.0   \n",
       "1                0.0             0.0             0.0             0.0   \n",
       "2                0.0             0.0             0.0             0.0   \n",
       "3                0.0             0.0             0.0             0.0   \n",
       "4                0.0             0.0             0.0             0.0   \n",
       "...              ...             ...             ...             ...   \n",
       "1735             0.0             0.0             0.0             0.0   \n",
       "1736             0.0             0.0             0.0             0.0   \n",
       "1737             0.0             0.0             0.0             0.0   \n",
       "1738             0.0             0.0             0.0             0.0   \n",
       "1739             0.0             0.0             0.0             0.0   \n",
       "\n",
       "      v_Q02562_SQ008  v_Q02562_SQ009  v_Q02562_SQ010  v_Q02562_other  v_Q0256  \\\n",
       "0                0.0             0.0             0.0             NaN      NaN   \n",
       "1                0.0             0.0             0.0             NaN      NaN   \n",
       "2                0.0             0.0             0.0             NaN      NaN   \n",
       "3                0.0             0.0             0.0             0.0      NaN   \n",
       "4                0.0             0.0             0.0             0.0      NaN   \n",
       "...              ...             ...             ...             ...      ...   \n",
       "1735             0.0             0.0             0.0             NaN      NaN   \n",
       "1736             0.0             0.0             0.0             NaN      NaN   \n",
       "1737             0.0             0.0             0.0             NaN      NaN   \n",
       "1738             0.0             0.0             0.0             NaN      NaN   \n",
       "1739             0.0             0.0             0.0             NaN      NaN   \n",
       "\n",
       "      v_Q026  \n",
       "0          1  \n",
       "1          1  \n",
       "2          2  \n",
       "3          1  \n",
       "4          1  \n",
       "...      ...  \n",
       "1735       3  \n",
       "1736       2  \n",
       "1737       2  \n",
       "1738       2  \n",
       "1739       2  \n",
       "\n",
       "[1740 rows x 158 columns]"
      ]
     },
     "metadata": {},
     "output_type": "display_data"
    }
   ],
   "source": [
    "df = pd.read_csv(r\"censo.csv\")\n",
    "#df = pd.read_csv(bam.titanic_csv)\n",
    "bam.enable()\n",
    "df\n",
    "\n",
    "#TUTORIAL: https://towardsdatascience.com/bamboolib-one-of-the-most-useful-python-libraries-you-have-ever-seen-6ce331685bb7"
   ]
  }
 ],
 "metadata": {
  "kernelspec": {
   "display_name": "Python 3 (ipykernel)",
   "language": "python",
   "name": "python3"
  },
  "language_info": {
   "codemirror_mode": {
    "name": "ipython",
    "version": 3
   },
   "file_extension": ".py",
   "mimetype": "text/x-python",
   "name": "python",
   "nbconvert_exporter": "python",
   "pygments_lexer": "ipython3",
   "version": "3.8.11"
  },
  "widgets": {
   "application/vnd.jupyter.widget-state+json": {
    "state": {
     "010e9cf05fd24a4791cf9c3480b53ec8": {
      "model_module": "@jupyter-widgets/controls",
      "model_module_version": "1.5.0",
      "model_name": "DescriptionStyleModel",
      "state": {
       "description_width": ""
      }
     },
     "043e4b5ecc744c2086e5fd1d685456ee": {
      "model_module": "@jupyter-widgets/controls",
      "model_module_version": "1.5.0",
      "model_name": "HTMLModel",
      "state": {
       "layout": "IPY_MODEL_1cccd77596e747e9ac6d13bdd79fb722",
       "style": "IPY_MODEL_3637aadf588346e9ab5f1e59db090421",
       "value": "<div style='height:12px;'></div>"
      }
     },
     "04875daba3234a9abf09ff976b2cf39b": {
      "model_module": "@jupyter-widgets/base",
      "model_module_version": "1.2.0",
      "model_name": "LayoutModel",
      "state": {}
     },
     "04f0c84ba9fa4ec184fcd289bee6194f": {
      "model_module": "@jupyter-widgets/base",
      "model_module_version": "1.2.0",
      "model_name": "LayoutModel",
      "state": {}
     },
     "050e424bdf7246689ab8dd758d54c63e": {
      "model_module": "@jupyter-widgets/base",
      "model_module_version": "1.2.0",
      "model_name": "LayoutModel",
      "state": {}
     },
     "06ebf254795b4b968a45a9d9e8c81a25": {
      "model_module": "@jupyter-widgets/base",
      "model_module_version": "1.2.0",
      "model_name": "LayoutModel",
      "state": {}
     },
     "06f19512479d4cf8954ab338cc5fa4a9": {
      "model_module": "@jupyter-widgets/controls",
      "model_module_version": "1.5.0",
      "model_name": "VBoxModel",
      "state": {
       "layout": "IPY_MODEL_9cea44abc0ae4a4aaee777adbb3d7c3d"
      }
     },
     "07cc518cd0f04694ad286f84decd7172": {
      "model_module": "@jupyter-widgets/controls",
      "model_module_version": "1.5.0",
      "model_name": "VBoxModel",
      "state": {
       "_dom_classes": [
        "bamboolib-min-height-for-tab-viewables"
       ],
       "children": [
        "IPY_MODEL_27856d26b8834e56b26a62d625dfa820",
        "IPY_MODEL_753a42d4eb314c73b80361acabe28b27"
       ],
       "layout": "IPY_MODEL_4349abb7a44a4938b036c4883f6cadd3"
      }
     },
     "094c5657aaf14306955089005e7949df": {
      "model_module": "@jupyter-widgets/base",
      "model_module_version": "1.2.0",
      "model_name": "LayoutModel",
      "state": {}
     },
     "0a563299235641dca343ec905b14cf52": {
      "model_module": "@jupyter-widgets/base",
      "model_module_version": "1.2.0",
      "model_name": "LayoutModel",
      "state": {}
     },
     "0b1ce5648bef450997dcaba40c3a658f": {
      "model_module": "@jupyter-widgets/base",
      "model_module_version": "1.2.0",
      "model_name": "LayoutModel",
      "state": {}
     },
     "0ba46837fedc4375943b5e9f4399d3c8": {
      "model_module": "@jupyter-widgets/controls",
      "model_module_version": "1.5.0",
      "model_name": "HTMLModel",
      "state": {
       "layout": "IPY_MODEL_050e424bdf7246689ab8dd758d54c63e",
       "style": "IPY_MODEL_ccb17c792a48480a8abe411620c210b8",
       "value": "<div style='height:12px;'></div>"
      }
     },
     "0d10ef4313bb4207b8be4e96130da60d": {
      "model_module": "@jupyter-widgets/base",
      "model_module_version": "1.2.0",
      "model_name": "LayoutModel",
      "state": {}
     },
     "0dc855d1043e4122a61887740d75b837": {
      "model_module": "@jupyter-widgets/controls",
      "model_module_version": "1.5.0",
      "model_name": "ButtonStyleModel",
      "state": {}
     },
     "0e5c68960cb740ac93f40b2db1439811": {
      "model_module": "@jupyter-widgets/base",
      "model_module_version": "1.2.0",
      "model_name": "LayoutModel",
      "state": {}
     },
     "10e1a7839486477a857014d635e122b4": {
      "model_module": "@jupyter-widgets/controls",
      "model_module_version": "1.5.0",
      "model_name": "DescriptionStyleModel",
      "state": {
       "description_width": ""
      }
     },
     "153b8e27ae4845488bc738b6f0b2d885": {
      "model_module": "@jupyter-widgets/base",
      "model_module_version": "1.2.0",
      "model_name": "LayoutModel",
      "state": {}
     },
     "1559081097a64b0bac3131d020d59224": {
      "model_module": "@jupyter-widgets/base",
      "model_module_version": "1.2.0",
      "model_name": "LayoutModel",
      "state": {}
     },
     "15bd83d62bff4467b02ec3d0eb545a3e": {
      "model_module": "@jupyter-widgets/controls",
      "model_module_version": "1.5.0",
      "model_name": "VBoxModel",
      "state": {
       "layout": "IPY_MODEL_b754444d68484200b571842b2d751935"
      }
     },
     "1639a08e462941a39e87482c118bda20": {
      "model_module": "@jupyter-widgets/base",
      "model_module_version": "1.2.0",
      "model_name": "LayoutModel",
      "state": {}
     },
     "166454a7d2b4415a83ebd80860b3dfbf": {
      "model_module": "@jupyter-widgets/controls",
      "model_module_version": "1.5.0",
      "model_name": "HTMLModel",
      "state": {
       "layout": "IPY_MODEL_7a7235f6efaa4a8387fcced114d3d0e3",
       "style": "IPY_MODEL_484a43f78a2d4b1aa13a34cd094faced",
       "value": "bamboolib is loading ..."
      }
     },
     "16e791955c944ef99be88882a6ed0cff": {
      "model_module": "@jupyter-widgets/controls",
      "model_module_version": "1.5.0",
      "model_name": "HTMLModel",
      "state": {
       "layout": "IPY_MODEL_96ac4fc6f59245efbea38ba38f623554",
       "style": "IPY_MODEL_7d9f6c43113e486582062b8524379b79",
       "value": "<div style='height:12px;'></div>"
      }
     },
     "1709aefac9794f63a118562faefda951": {
      "model_module": "@jupyter-widgets/controls",
      "model_module_version": "1.5.0",
      "model_name": "VBoxModel",
      "state": {
       "layout": "IPY_MODEL_d6faa8a51bb9476d8ffa9b4ab885d546"
      }
     },
     "170d5515358a471cb7508faf3e6ec565": {
      "model_module": "@jupyter-widgets/base",
      "model_module_version": "1.2.0",
      "model_name": "LayoutModel",
      "state": {}
     },
     "17f95ff0885848a3abadfb448c66b6ab": {
      "model_module": "@jupyter-widgets/controls",
      "model_module_version": "1.5.0",
      "model_name": "VBoxModel",
      "state": {
       "layout": "IPY_MODEL_6109ce99849c4a96b591cb6c9e31b600"
      }
     },
     "1a35786eb7ee4560ba1ece77ba8466c6": {
      "model_module": "@jupyter-widgets/controls",
      "model_module_version": "1.5.0",
      "model_name": "DescriptionStyleModel",
      "state": {
       "description_width": ""
      }
     },
     "1a88e58ebc4e41e486c529ba4587513d": {
      "model_module": "@jupyter-widgets/controls",
      "model_module_version": "1.5.0",
      "model_name": "VBoxModel",
      "state": {
       "layout": "IPY_MODEL_798a270358354d65affbfb724e0b7c38"
      }
     },
     "1b54ee7f2625459682f92bdf31272720": {
      "model_module": "@jupyter-widgets/base",
      "model_module_version": "1.2.0",
      "model_name": "LayoutModel",
      "state": {}
     },
     "1bc24353635248779736bfba4b6f4239": {
      "model_module": "@jupyter-widgets/controls",
      "model_module_version": "1.5.0",
      "model_name": "HTMLModel",
      "state": {
       "layout": "IPY_MODEL_60532d0aa53646b08d04ad8f5325754e",
       "style": "IPY_MODEL_010e9cf05fd24a4791cf9c3480b53ec8",
       "value": "Loading ..."
      }
     },
     "1cccd77596e747e9ac6d13bdd79fb722": {
      "model_module": "@jupyter-widgets/base",
      "model_module_version": "1.2.0",
      "model_name": "LayoutModel",
      "state": {}
     },
     "1d9f7b2ee2b24c05abcff29f62a5a998": {
      "model_module": "@jupyter-widgets/controls",
      "model_module_version": "1.5.0",
      "model_name": "DescriptionStyleModel",
      "state": {
       "description_width": ""
      }
     },
     "2072f5af52c94adf992da8e82da8ab35": {
      "model_module": "@jupyter-widgets/controls",
      "model_module_version": "1.5.0",
      "model_name": "ButtonStyleModel",
      "state": {}
     },
     "2081c4310ae247a0921e34da5e893d8a": {
      "model_module": "@jupyter-widgets/controls",
      "model_module_version": "1.5.0",
      "model_name": "ButtonStyleModel",
      "state": {}
     },
     "2106342d37a5411d895c6ea51b1ab950": {
      "model_module": "@jupyter-widgets/controls",
      "model_module_version": "1.5.0",
      "model_name": "ButtonStyleModel",
      "state": {}
     },
     "211e60c8644f4cdd813ed5e976e48c30": {
      "model_module": "@jupyter-widgets/base",
      "model_module_version": "1.2.0",
      "model_name": "LayoutModel",
      "state": {}
     },
     "224357d48352493ba20f5811ec581ab7": {
      "model_module": "@jupyter-widgets/base",
      "model_module_version": "1.2.0",
      "model_name": "LayoutModel",
      "state": {}
     },
     "23829a8e706a4f079635a983a8735d21": {
      "model_module": "@jupyter-widgets/base",
      "model_module_version": "1.2.0",
      "model_name": "LayoutModel",
      "state": {}
     },
     "23dfd56dcc5d49b2bb6faed5921a5058": {
      "model_module": "@jupyter-widgets/controls",
      "model_module_version": "1.5.0",
      "model_name": "ButtonStyleModel",
      "state": {}
     },
     "23ee5af336d04b20a9077e832bd3420e": {
      "model_module": "@jupyter-widgets/base",
      "model_module_version": "1.2.0",
      "model_name": "LayoutModel",
      "state": {}
     },
     "25e2f750f65a4e65b3df11ff14809b6f": {
      "model_module": "@jupyter-widgets/base",
      "model_module_version": "1.2.0",
      "model_name": "LayoutModel",
      "state": {}
     },
     "27856d26b8834e56b26a62d625dfa820": {
      "model_module": "@jupyter-widgets/controls",
      "model_module_version": "1.5.0",
      "model_name": "VBoxModel",
      "state": {
       "_dom_classes": [
        "bamboolib-window-without-border"
       ],
       "layout": "IPY_MODEL_abc14d719ac84982b959ec02b013c597"
      }
     },
     "27b8195931d74314a4c52d685c0c97a1": {
      "model_module": "@jupyter-widgets/base",
      "model_module_version": "1.2.0",
      "model_name": "LayoutModel",
      "state": {}
     },
     "287673c9d0e849adaf084dc3a94e6a6a": {
      "model_module": "@jupyter-widgets/controls",
      "model_module_version": "1.5.0",
      "model_name": "DescriptionStyleModel",
      "state": {
       "description_width": ""
      }
     },
     "28cae4a35cac421989feb639a18ebc94": {
      "model_module": "@jupyter-widgets/base",
      "model_module_version": "1.2.0",
      "model_name": "LayoutModel",
      "state": {}
     },
     "2a3ea11a18674499ac7c12fe7209ac17": {
      "model_module": "@jupyter-widgets/controls",
      "model_module_version": "1.5.0",
      "model_name": "HTMLModel",
      "state": {
       "layout": "IPY_MODEL_319019e763264537a0eadaf8230b4605",
       "style": "IPY_MODEL_287673c9d0e849adaf084dc3a94e6a6a",
       "value": " or "
      }
     },
     "2b46ff394c6a498e8733162b8d42cd75": {
      "model_module": "@jupyter-widgets/base",
      "model_module_version": "1.2.0",
      "model_name": "LayoutModel",
      "state": {}
     },
     "2cd63a0528674af29aaa072f4950b968": {
      "model_module": "@jupyter-widgets/controls",
      "model_module_version": "1.5.0",
      "model_name": "VBoxModel",
      "state": {
       "layout": "IPY_MODEL_894a2934c0b8450a93b039ecb0f89744"
      }
     },
     "2cdbde60e95448f69498fdc6ff2461fc": {
      "model_module": "@jupyter-widgets/base",
      "model_module_version": "1.2.0",
      "model_name": "LayoutModel",
      "state": {}
     },
     "2dbc346a4237481faa4e599515d3e061": {
      "model_module": "@jupyter-widgets/controls",
      "model_module_version": "1.5.0",
      "model_name": "VBoxModel",
      "state": {
       "_dom_classes": [
        "bamboolib-window",
        "bamboolib-full-modal"
       ],
       "layout": "IPY_MODEL_aec2b30a041c4426a07c7c40ac37e4df"
      }
     },
     "2ea8a5cf8c5f49f388c877d3785f392d": {
      "model_module": "@jupyter-widgets/controls",
      "model_module_version": "1.5.0",
      "model_name": "VBoxModel",
      "state": {
       "children": [
        "IPY_MODEL_7cfec146ed444185866fb40cc1eca625",
        "IPY_MODEL_dd2a34432a7848f2b29230e78448d1a7",
        "IPY_MODEL_cc035bf93871493ca5d4e3692691f707"
       ],
       "layout": "IPY_MODEL_70dea36c64bf4fdeac1cedb4e8fa4c15"
      }
     },
     "3019ab35c7244fda9ecfff78337e2c4f": {
      "model_module": "@jupyter-widgets/controls",
      "model_module_version": "1.5.0",
      "model_name": "DescriptionStyleModel",
      "state": {
       "description_width": ""
      }
     },
     "30c4d5db48b9431cbd3520fe8134cf55": {
      "model_module": "@jupyter-widgets/base",
      "model_module_version": "1.2.0",
      "model_name": "LayoutModel",
      "state": {}
     },
     "30ece2b7bad84d259ddebdfb75e13d6e": {
      "model_module": "@jupyter-widgets/controls",
      "model_module_version": "1.5.0",
      "model_name": "VBoxModel",
      "state": {
       "layout": "IPY_MODEL_1559081097a64b0bac3131d020d59224"
      }
     },
     "319019e763264537a0eadaf8230b4605": {
      "model_module": "@jupyter-widgets/base",
      "model_module_version": "1.2.0",
      "model_name": "LayoutModel",
      "state": {}
     },
     "31dfb82d12094449b908892b033b2766": {
      "model_module": "@jupyter-widgets/base",
      "model_module_version": "1.2.0",
      "model_name": "LayoutModel",
      "state": {}
     },
     "31f290c3c3534cdc8abb95664be6fd90": {
      "model_module": "@jupyter-widgets/controls",
      "model_module_version": "1.5.0",
      "model_name": "ButtonStyleModel",
      "state": {}
     },
     "32afcffbc7c8490e87352d8287195bda": {
      "model_module": "@jupyter-widgets/controls",
      "model_module_version": "1.5.0",
      "model_name": "HTMLModel",
      "state": {
       "layout": "IPY_MODEL_e6155264d52a44b3bc81c6fd6811ea52",
       "style": "IPY_MODEL_b252997d80ff4c6490bebcdd40404081",
       "value": "Loading ..."
      }
     },
     "32fed03532624d68a48fe1867c35e43b": {
      "model_module": "@jupyter-widgets/base",
      "model_module_version": "1.2.0",
      "model_name": "LayoutModel",
      "state": {}
     },
     "33deee65c1eb43d2af354a0b86d577d0": {
      "model_module": "@jupyter-widgets/controls",
      "model_module_version": "1.5.0",
      "model_name": "HTMLModel",
      "state": {
       "layout": "IPY_MODEL_78914f8941cf43afb0e9198a1308544f",
       "style": "IPY_MODEL_826991cded964c95ab047acc9d3724d0",
       "value": " or "
      }
     },
     "3498645e75e74c6d88acf40d68cb9d98": {
      "model_module": "@jupyter-widgets/controls",
      "model_module_version": "1.5.0",
      "model_name": "HBoxModel",
      "state": {
       "_dom_classes": [
        "bamboolib-tab-header",
        "bamboolib-hidden"
       ],
       "layout": "IPY_MODEL_d7b3f643d2aa487abc753327538fb060"
      }
     },
     "354e66fe3d014c988fc83f0d825eb6a9": {
      "model_module": "@jupyter-widgets/controls",
      "model_module_version": "1.5.0",
      "model_name": "DescriptionStyleModel",
      "state": {
       "description_width": ""
      }
     },
     "35cbcfcb17694512999d45b6da73ed67": {
      "model_module": "@jupyter-widgets/base",
      "model_module_version": "1.2.0",
      "model_name": "LayoutModel",
      "state": {}
     },
     "3637aadf588346e9ab5f1e59db090421": {
      "model_module": "@jupyter-widgets/controls",
      "model_module_version": "1.5.0",
      "model_name": "DescriptionStyleModel",
      "state": {
       "description_width": ""
      }
     },
     "367072283b15408f9a8cbee42f7db7f1": {
      "model_module": "@jupyter-widgets/controls",
      "model_module_version": "1.5.0",
      "model_name": "DescriptionStyleModel",
      "state": {
       "description_width": ""
      }
     },
     "370eeb2a6c5549fab46a1a4a5f3e59a4": {
      "model_module": "@jupyter-widgets/controls",
      "model_module_version": "1.5.0",
      "model_name": "VBoxModel",
      "state": {
       "children": [
        "IPY_MODEL_07cc518cd0f04694ad286f84decd7172",
        "IPY_MODEL_573b9833a0234fa98afdb295c1150727",
        "IPY_MODEL_8ae93ba15bc4448fbf7c6342f723fe3d"
       ],
       "layout": "IPY_MODEL_a3ba7a71038349da9ac906d18c660cb0"
      }
     },
     "3747983b0e074d729f9723a9348e8193": {
      "model_module": "@jupyter-widgets/base",
      "model_module_version": "1.2.0",
      "model_name": "LayoutModel",
      "state": {}
     },
     "37a5762972f549989b5389c6339c2099": {
      "model_module": "@jupyter-widgets/base",
      "model_module_version": "1.2.0",
      "model_name": "LayoutModel",
      "state": {}
     },
     "38ce819d53f24be9a38786c5283ee800": {
      "model_module": "@jupyter-widgets/controls",
      "model_module_version": "1.5.0",
      "model_name": "ButtonStyleModel",
      "state": {}
     },
     "38e01a03cb62472baeb4bb0586edaddc": {
      "model_module": "@jupyter-widgets/controls",
      "model_module_version": "1.5.0",
      "model_name": "VBoxModel",
      "state": {
       "layout": "IPY_MODEL_f3a97d1652844146b9615afdb2198407"
      }
     },
     "3a3666fcdffc439fb60ddd45c9b1ec63": {
      "model_module": "@jupyter-widgets/controls",
      "model_module_version": "1.5.0",
      "model_name": "DescriptionStyleModel",
      "state": {
       "description_width": ""
      }
     },
     "3c3edaaa702d4e6aa448eede3107119d": {
      "model_module": "@jupyter-widgets/base",
      "model_module_version": "1.2.0",
      "model_name": "LayoutModel",
      "state": {}
     },
     "3d564bee7f8449ae80dce0b103f4d824": {
      "model_module": "@jupyter-widgets/controls",
      "model_module_version": "1.5.0",
      "model_name": "VBoxModel",
      "state": {
       "_dom_classes": [
        "bamboolib-ui"
       ],
       "layout": "IPY_MODEL_84303ebf29c64b03b28a7547f6e64a63"
      }
     },
     "3e7eac6ae0054d96bd82682a0d807d62": {
      "model_module": "@jupyter-widgets/base",
      "model_module_version": "1.2.0",
      "model_name": "LayoutModel",
      "state": {}
     },
     "403eb75ab64a42a28bc4f0d21d561c4b": {
      "model_module": "@jupyter-widgets/base",
      "model_module_version": "1.2.0",
      "model_name": "LayoutModel",
      "state": {}
     },
     "40ff5db673f449f9b8593d088dbe406c": {
      "model_module": "@jupyter-widgets/base",
      "model_module_version": "1.2.0",
      "model_name": "LayoutModel",
      "state": {}
     },
     "419444472cad4361a2d0487a839cb0b9": {
      "model_module": "@jupyter-widgets/controls",
      "model_module_version": "1.5.0",
      "model_name": "ButtonStyleModel",
      "state": {}
     },
     "4285a68970f646bdb1658d8caccf8c1e": {
      "model_module": "@jupyter-widgets/base",
      "model_module_version": "1.2.0",
      "model_name": "LayoutModel",
      "state": {}
     },
     "42d94fa2f1cf4c72be4ef4801bceb173": {
      "model_module": "@jupyter-widgets/controls",
      "model_module_version": "1.5.0",
      "model_name": "VBoxModel",
      "state": {
       "layout": "IPY_MODEL_094c5657aaf14306955089005e7949df"
      }
     },
     "4349abb7a44a4938b036c4883f6cadd3": {
      "model_module": "@jupyter-widgets/base",
      "model_module_version": "1.2.0",
      "model_name": "LayoutModel",
      "state": {}
     },
     "439f8d7d44d44708bd7469a4f7e222d4": {
      "model_module": "@jupyter-widgets/controls",
      "model_module_version": "1.5.0",
      "model_name": "ButtonStyleModel",
      "state": {}
     },
     "4414f7587b9e480086cabcda25ba1c9d": {
      "model_module": "@jupyter-widgets/base",
      "model_module_version": "1.2.0",
      "model_name": "LayoutModel",
      "state": {}
     },
     "44905a993cf8456e9be335f175b8b3cc": {
      "model_module": "@jupyter-widgets/controls",
      "model_module_version": "1.5.0",
      "model_name": "VBoxModel",
      "state": {
       "layout": "IPY_MODEL_4a6174a3ac964a36bd0d400b16525c55"
      }
     },
     "44eeb3f8fdf148fcb3d845d219c9f517": {
      "model_module": "@jupyter-widgets/controls",
      "model_module_version": "1.5.0",
      "model_name": "DescriptionStyleModel",
      "state": {
       "description_width": ""
      }
     },
     "45c69992a9214e4698c560b929f3af3e": {
      "model_module": "@jupyter-widgets/controls",
      "model_module_version": "1.5.0",
      "model_name": "ButtonStyleModel",
      "state": {}
     },
     "484a43f78a2d4b1aa13a34cd094faced": {
      "model_module": "@jupyter-widgets/controls",
      "model_module_version": "1.5.0",
      "model_name": "DescriptionStyleModel",
      "state": {
       "description_width": ""
      }
     },
     "492e9658bb5b40ffbe58e4dbc050db1b": {
      "model_module": "@jupyter-widgets/controls",
      "model_module_version": "1.5.0",
      "model_name": "ButtonStyleModel",
      "state": {}
     },
     "49b78d6fc7ee4e83926388b53a92fa4d": {
      "model_module": "@jupyter-widgets/controls",
      "model_module_version": "1.5.0",
      "model_name": "DescriptionStyleModel",
      "state": {
       "description_width": ""
      }
     },
     "4a6174a3ac964a36bd0d400b16525c55": {
      "model_module": "@jupyter-widgets/base",
      "model_module_version": "1.2.0",
      "model_name": "LayoutModel",
      "state": {}
     },
     "4b2c61fed4c0483f86688b4879b05797": {
      "model_module": "@jupyter-widgets/controls",
      "model_module_version": "1.5.0",
      "model_name": "DescriptionStyleModel",
      "state": {
       "description_width": ""
      }
     },
     "4b49a1d9caf24228bdb8e4f69c46ea6f": {
      "model_module": "@jupyter-widgets/base",
      "model_module_version": "1.2.0",
      "model_name": "LayoutModel",
      "state": {}
     },
     "4c68cd40f4e44c7f867f61f786c49588": {
      "model_module": "@jupyter-widgets/base",
      "model_module_version": "1.2.0",
      "model_name": "LayoutModel",
      "state": {}
     },
     "4dad1e892fc2471a8997f2f1c16306af": {
      "model_module": "@jupyter-widgets/base",
      "model_module_version": "1.2.0",
      "model_name": "LayoutModel",
      "state": {}
     },
     "4db7d6e7e6d0413291a55bec2796b2bb": {
      "model_module": "@jupyter-widgets/controls",
      "model_module_version": "1.5.0",
      "model_name": "VBoxModel",
      "state": {
       "layout": "IPY_MODEL_d21d81ee9e354d21bbe7ffec3a93c73b"
      }
     },
     "4e4405fbf3074cd99e2d035451dff6d6": {
      "model_module": "@jupyter-widgets/base",
      "model_module_version": "1.2.0",
      "model_name": "LayoutModel",
      "state": {}
     },
     "4f1e1fdb2c664aefa6b70224006d8f23": {
      "model_module": "@jupyter-widgets/controls",
      "model_module_version": "1.5.0",
      "model_name": "HTMLModel",
      "state": {
       "layout": "IPY_MODEL_75eb1336c3a34c1a8acec14e2926534f",
       "style": "IPY_MODEL_44eeb3f8fdf148fcb3d845d219c9f517"
      }
     },
     "5109bf75dee64467ade81b439ee132d7": {
      "model_module": "@jupyter-widgets/controls",
      "model_module_version": "1.5.0",
      "model_name": "VBoxModel",
      "state": {
       "_dom_classes": [
        "bamboolib-window",
        "bamboolib-side-window"
       ],
       "layout": "IPY_MODEL_f3de263461544ad78b0963712c44909c"
      }
     },
     "526037b453804326a3d23819fd0c6d33": {
      "model_module": "@jupyter-widgets/base",
      "model_module_version": "1.2.0",
      "model_name": "LayoutModel",
      "state": {}
     },
     "52719a8e927742528eb4ea257823a974": {
      "model_module": "@jupyter-widgets/controls",
      "model_module_version": "1.5.0",
      "model_name": "VBoxModel",
      "state": {
       "_dom_classes": [
        "bamboolib-window",
        "bamboolib-side-window"
       ],
       "layout": "IPY_MODEL_28cae4a35cac421989feb639a18ebc94"
      }
     },
     "548dd8ddd9134fedac39051b1b1d56ab": {
      "model_module": "@jupyter-widgets/base",
      "model_module_version": "1.2.0",
      "model_name": "LayoutModel",
      "state": {}
     },
     "55c3371a378b445f9924bdc283f9fa96": {
      "model_module": "@jupyter-widgets/controls",
      "model_module_version": "1.5.0",
      "model_name": "ButtonStyleModel",
      "state": {}
     },
     "56fbd80b37c1433e81617f03a1422705": {
      "model_module": "@jupyter-widgets/base",
      "model_module_version": "1.2.0",
      "model_name": "LayoutModel",
      "state": {}
     },
     "573b9833a0234fa98afdb295c1150727": {
      "model_module": "@jupyter-widgets/controls",
      "model_module_version": "1.5.0",
      "model_name": "VBoxModel",
      "state": {
       "_dom_classes": [
        "bamboolib-loader-modal"
       ],
       "children": [
        "IPY_MODEL_f9fff02c5c6a4ead802bb60dc1181cb3"
       ],
       "layout": "IPY_MODEL_6d9a856fb9b6416186317bbddeef38c4"
      }
     },
     "58537ced218f489f82464ad7aac1e822": {
      "model_module": "@jupyter-widgets/controls",
      "model_module_version": "1.5.0",
      "model_name": "ButtonStyleModel",
      "state": {}
     },
     "589a8d8b1eb04df7a7eafd2eeed9bb23": {
      "model_module": "@jupyter-widgets/controls",
      "model_module_version": "1.5.0",
      "model_name": "VBoxModel",
      "state": {
       "layout": "IPY_MODEL_d9bccfc5ce5a4859be6a1426a65ed382"
      }
     },
     "597beb589ded4c92aa8050e1fc767d16": {
      "model_module": "@jupyter-widgets/base",
      "model_module_version": "1.2.0",
      "model_name": "LayoutModel",
      "state": {}
     },
     "5b365641462841499db4fb80b0e84902": {
      "model_module": "@jupyter-widgets/controls",
      "model_module_version": "1.5.0",
      "model_name": "VBoxModel",
      "state": {
       "_dom_classes": [
        "bamboolib-window",
        "bamboolib-full-modal"
       ],
       "layout": "IPY_MODEL_6fb8ff686c01494198d4ead7d137b990"
      }
     },
     "5b9d524596d84a5e8cb28914e65c9da5": {
      "model_module": "@jupyter-widgets/base",
      "model_module_version": "1.2.0",
      "model_name": "LayoutModel",
      "state": {}
     },
     "5e8137d0762d43ecbd6746580a32609f": {
      "model_module": "@jupyter-widgets/controls",
      "model_module_version": "1.5.0",
      "model_name": "VBoxModel",
      "state": {
       "_dom_classes": [
        "bamboolib-loader-modal"
       ],
       "children": [
        "IPY_MODEL_a3e261ea9dc9402db430d35a65d666b8"
       ],
       "layout": "IPY_MODEL_ebfebc3401ae4afcaa99cb59e3c415f6"
      }
     },
     "5e8b37dc27c24352823ff67aa878e058": {
      "model_module": "@jupyter-widgets/controls",
      "model_module_version": "1.5.0",
      "model_name": "HBoxModel",
      "state": {
       "_dom_classes": [
        "bamboolib-tab-header",
        "bamboolib-hidden"
       ],
       "layout": "IPY_MODEL_b61c221f21b645cd80b6620acdc9fcc8"
      }
     },
     "60532d0aa53646b08d04ad8f5325754e": {
      "model_module": "@jupyter-widgets/base",
      "model_module_version": "1.2.0",
      "model_name": "LayoutModel",
      "state": {}
     },
     "6109ce99849c4a96b591cb6c9e31b600": {
      "model_module": "@jupyter-widgets/base",
      "model_module_version": "1.2.0",
      "model_name": "LayoutModel",
      "state": {}
     },
     "6173d59dd2144ad9b45c394c594e7418": {
      "model_module": "@jupyter-widgets/base",
      "model_module_version": "1.2.0",
      "model_name": "LayoutModel",
      "state": {}
     },
     "618e6d45fe674accb2706458c22bae5b": {
      "model_module": "@jupyter-widgets/base",
      "model_module_version": "1.2.0",
      "model_name": "LayoutModel",
      "state": {}
     },
     "62bc7dccecb044749bdf7e3433294bbb": {
      "model_module": "@jupyter-widgets/controls",
      "model_module_version": "1.5.0",
      "model_name": "VBoxModel",
      "state": {
       "layout": "IPY_MODEL_a5644158b8454ac680496092ea5cf975"
      }
     },
     "6304a808176f40dca25ac5d93049b266": {
      "model_module": "@jupyter-widgets/base",
      "model_module_version": "1.2.0",
      "model_name": "LayoutModel",
      "state": {}
     },
     "64fbc7bc903c449c9cb6e12df1608f9b": {
      "model_module": "@jupyter-widgets/base",
      "model_module_version": "1.2.0",
      "model_name": "LayoutModel",
      "state": {}
     },
     "656c12a6408841d2a44105863e56ec13": {
      "model_module": "@jupyter-widgets/controls",
      "model_module_version": "1.5.0",
      "model_name": "HTMLModel",
      "state": {
       "layout": "IPY_MODEL_8b9c9f94663a4642ae2a1497467c5efe",
       "style": "IPY_MODEL_4b2c61fed4c0483f86688b4879b05797",
       "value": "<div style='height:24px;'></div>"
      }
     },
     "66002c75449147ec830cf3d42051d213": {
      "model_module": "@jupyter-widgets/controls",
      "model_module_version": "1.5.0",
      "model_name": "CheckboxModel",
      "state": {
       "_dom_classes": [
        "bamboolib-checkbox"
       ],
       "description": "Live Code Export",
       "disabled": false,
       "layout": "IPY_MODEL_9e0f35a3a5e04240b20b640a68879a09",
       "style": "IPY_MODEL_749a03ae3c0a4cbaac3044df34ab5af2",
       "value": true
      }
     },
     "6770e80e0e9b4b269f0b5815e5e16272": {
      "model_module": "@jupyter-widgets/base",
      "model_module_version": "1.2.0",
      "model_name": "LayoutModel",
      "state": {
       "width": "100%"
      }
     },
     "67ef8982f96948aa98935ff6fc8bd1ac": {
      "model_module": "@jupyter-widgets/controls",
      "model_module_version": "1.5.0",
      "model_name": "DescriptionStyleModel",
      "state": {
       "description_width": ""
      }
     },
     "691e4e2794d74b0baf2e454fd835ebfc": {
      "model_module": "@jupyter-widgets/base",
      "model_module_version": "1.2.0",
      "model_name": "LayoutModel",
      "state": {}
     },
     "6950cbb063b74c408cd9605460f08013": {
      "model_module": "@jupyter-widgets/controls",
      "model_module_version": "1.5.0",
      "model_name": "ButtonStyleModel",
      "state": {}
     },
     "69750edfb2ea4ae88ce1c17fac855719": {
      "model_module": "@jupyter-widgets/controls",
      "model_module_version": "1.5.0",
      "model_name": "VBoxModel",
      "state": {
       "layout": "IPY_MODEL_a0b49633cd73497f87f56e1b0d97ea0f"
      }
     },
     "698e14162c3b4bbe9b158fb40796cc35": {
      "model_module": "@jupyter-widgets/base",
      "model_module_version": "1.2.0",
      "model_name": "LayoutModel",
      "state": {}
     },
     "69d9d19897dc476dacb0da5a1f422440": {
      "model_module": "@jupyter-widgets/base",
      "model_module_version": "1.2.0",
      "model_name": "LayoutModel",
      "state": {}
     },
     "6d9a856fb9b6416186317bbddeef38c4": {
      "model_module": "@jupyter-widgets/base",
      "model_module_version": "1.2.0",
      "model_name": "LayoutModel",
      "state": {}
     },
     "6e682c008968412b8efbce21f48262e4": {
      "model_module": "@jupyter-widgets/controls",
      "model_module_version": "1.5.0",
      "model_name": "HBoxModel",
      "state": {
       "children": [
        "IPY_MODEL_166454a7d2b4415a83ebd80860b3dfbf"
       ],
       "layout": "IPY_MODEL_30c4d5db48b9431cbd3520fe8134cf55"
      }
     },
     "6e6affa3bf9b496aab3d7f3bebea1c25": {
      "model_module": "@jupyter-widgets/controls",
      "model_module_version": "1.5.0",
      "model_name": "VBoxModel",
      "state": {
       "_dom_classes": [
        "bamboolib-window-without-border"
       ],
       "layout": "IPY_MODEL_d4c8d19538c6417abc2b7ed7fad3cd3c"
      }
     },
     "6f308d6a522f476cb314896c947d7810": {
      "model_module": "@jupyter-widgets/base",
      "model_module_version": "1.2.0",
      "model_name": "LayoutModel",
      "state": {}
     },
     "6fb8ff686c01494198d4ead7d137b990": {
      "model_module": "@jupyter-widgets/base",
      "model_module_version": "1.2.0",
      "model_name": "LayoutModel",
      "state": {}
     },
     "6fc59f3dfdad47c8a4f7d1010984cabd": {
      "model_module": "@jupyter-widgets/controls",
      "model_module_version": "1.5.0",
      "model_name": "VBoxModel",
      "state": {
       "layout": "IPY_MODEL_c04e69361916410589fa34c832520195"
      }
     },
     "6ff8e417869d4834a1a866c9dfdf3786": {
      "model_module": "@jupyter-widgets/controls",
      "model_module_version": "1.5.0",
      "model_name": "ButtonStyleModel",
      "state": {}
     },
     "6ffcb5f8f72a4c7f85cdb6ddef180947": {
      "model_module": "@jupyter-widgets/base",
      "model_module_version": "1.2.0",
      "model_name": "LayoutModel",
      "state": {}
     },
     "70dea36c64bf4fdeac1cedb4e8fa4c15": {
      "model_module": "@jupyter-widgets/base",
      "model_module_version": "1.2.0",
      "model_name": "LayoutModel",
      "state": {}
     },
     "71d4ef5694c649b58b07100b75bd19d8": {
      "model_module": "@jupyter-widgets/base",
      "model_module_version": "1.2.0",
      "model_name": "LayoutModel",
      "state": {}
     },
     "72b6036385cb4c82821d47001bf19237": {
      "model_module": "@jupyter-widgets/base",
      "model_module_version": "1.2.0",
      "model_name": "LayoutModel",
      "state": {}
     },
     "73323faabb5b4dfd8718548309afd6e3": {
      "model_module": "@jupyter-widgets/controls",
      "model_module_version": "1.5.0",
      "model_name": "ButtonStyleModel",
      "state": {}
     },
     "73916229fe6241739e77569b5c40459f": {
      "model_module": "@jupyter-widgets/base",
      "model_module_version": "1.2.0",
      "model_name": "LayoutModel",
      "state": {}
     },
     "743a95828bfa447dacf7397c3e315b38": {
      "model_module": "@jupyter-widgets/controls",
      "model_module_version": "1.5.0",
      "model_name": "VBoxModel",
      "state": {
       "children": [
        "IPY_MODEL_f045cb02e0c2479db74a713b451bc33b"
       ],
       "layout": "IPY_MODEL_7907a5db6115497292fab5463bb095e7"
      }
     },
     "749a03ae3c0a4cbaac3044df34ab5af2": {
      "model_module": "@jupyter-widgets/controls",
      "model_module_version": "1.5.0",
      "model_name": "DescriptionStyleModel",
      "state": {
       "description_width": ""
      }
     },
     "74deeb09ebd34717aae4f1cf5dd442d4": {
      "model_module": "@jupyter-widgets/controls",
      "model_module_version": "1.5.0",
      "model_name": "DescriptionStyleModel",
      "state": {
       "description_width": ""
      }
     },
     "753a42d4eb314c73b80361acabe28b27": {
      "model_module": "@jupyter-widgets/controls",
      "model_module_version": "1.5.0",
      "model_name": "VBoxModel",
      "state": {
       "_dom_classes": [
        "bamboolib-window"
       ],
       "layout": "IPY_MODEL_b3b12617decd462899a2e2f200f6e666"
      }
     },
     "75eb1336c3a34c1a8acec14e2926534f": {
      "model_module": "@jupyter-widgets/base",
      "model_module_version": "1.2.0",
      "model_name": "LayoutModel",
      "state": {}
     },
     "76f88ac8f4dd4319a22fb86299fcbb82": {
      "model_module": "@jupyter-widgets/controls",
      "model_module_version": "1.5.0",
      "model_name": "VBoxModel",
      "state": {
       "_dom_classes": [
        "bamboolib-overflow-visible"
       ],
       "layout": "IPY_MODEL_35cbcfcb17694512999d45b6da73ed67"
      }
     },
     "772bbcb9136e4535a50c7aa88f484d70": {
      "model_module": "@jupyter-widgets/controls",
      "model_module_version": "1.5.0",
      "model_name": "VBoxModel",
      "state": {
       "layout": "IPY_MODEL_2cdbde60e95448f69498fdc6ff2461fc"
      }
     },
     "78914f8941cf43afb0e9198a1308544f": {
      "model_module": "@jupyter-widgets/base",
      "model_module_version": "1.2.0",
      "model_name": "LayoutModel",
      "state": {}
     },
     "7907a5db6115497292fab5463bb095e7": {
      "model_module": "@jupyter-widgets/base",
      "model_module_version": "1.2.0",
      "model_name": "LayoutModel",
      "state": {}
     },
     "791a8c5cad104efbab09952b7cbde531": {
      "model_module": "@jupyter-widgets/controls",
      "model_module_version": "1.5.0",
      "model_name": "VBoxModel",
      "state": {
       "_dom_classes": [
        "bamboolib-loader-modal"
       ],
       "children": [
        "IPY_MODEL_32afcffbc7c8490e87352d8287195bda"
       ],
       "layout": "IPY_MODEL_04875daba3234a9abf09ff976b2cf39b"
      }
     },
     "79359870afc54570b89e5fc490e6c91a": {
      "model_module": "@jupyter-widgets/controls",
      "model_module_version": "1.5.0",
      "model_name": "DescriptionStyleModel",
      "state": {
       "description_width": ""
      }
     },
     "7938cbfa5752461c8ea206301aaa774a": {
      "model_module": "@jupyter-widgets/base",
      "model_module_version": "1.2.0",
      "model_name": "LayoutModel",
      "state": {}
     },
     "798a270358354d65affbfb724e0b7c38": {
      "model_module": "@jupyter-widgets/base",
      "model_module_version": "1.2.0",
      "model_name": "LayoutModel",
      "state": {}
     },
     "7a7235f6efaa4a8387fcced114d3d0e3": {
      "model_module": "@jupyter-widgets/base",
      "model_module_version": "1.2.0",
      "model_name": "LayoutModel",
      "state": {}
     },
     "7b407f0d38c04bc3a31746091ed4c446": {
      "model_module": "@jupyter-widgets/controls",
      "model_module_version": "1.5.0",
      "model_name": "VBoxModel",
      "state": {
       "layout": "IPY_MODEL_bcc2468b182745aa971173d52804ae24"
      }
     },
     "7b5bf1d7b59a44f1860fe92c058c4a72": {
      "model_module": "@jupyter-widgets/base",
      "model_module_version": "1.2.0",
      "model_name": "LayoutModel",
      "state": {}
     },
     "7cfec146ed444185866fb40cc1eca625": {
      "model_module": "@jupyter-widgets/controls",
      "model_module_version": "1.5.0",
      "model_name": "VBoxModel",
      "state": {
       "_dom_classes": [
        "bamboolib-min-height-for-tab-viewables"
       ],
       "children": [
        "IPY_MODEL_6e6affa3bf9b496aab3d7f3bebea1c25",
        "IPY_MODEL_d8e6be589a094817ba2977abe018c4ae"
       ],
       "layout": "IPY_MODEL_2b46ff394c6a498e8733162b8d42cd75"
      }
     },
     "7d65610897764ddfba4c388d3bc12eea": {
      "model_module": "@jupyter-widgets/controls",
      "model_module_version": "1.5.0",
      "model_name": "VBoxModel",
      "state": {
       "_dom_classes": [
        "bamboolib-ui"
       ],
       "layout": "IPY_MODEL_0b1ce5648bef450997dcaba40c3a658f"
      }
     },
     "7d9f6c43113e486582062b8524379b79": {
      "model_module": "@jupyter-widgets/controls",
      "model_module_version": "1.5.0",
      "model_name": "DescriptionStyleModel",
      "state": {
       "description_width": ""
      }
     },
     "7f64b35162f543e9abe53df3d1f6918f": {
      "model_module": "@jupyter-widgets/controls",
      "model_module_version": "1.5.0",
      "model_name": "ButtonStyleModel",
      "state": {}
     },
     "8093485e4ebe4e6c97fa30ec865866ba": {
      "model_module": "@jupyter-widgets/base",
      "model_module_version": "1.2.0",
      "model_name": "LayoutModel",
      "state": {}
     },
     "81e4eeb4389449188214158818b45720": {
      "model_module": "@jupyter-widgets/base",
      "model_module_version": "1.2.0",
      "model_name": "LayoutModel",
      "state": {}
     },
     "826991cded964c95ab047acc9d3724d0": {
      "model_module": "@jupyter-widgets/controls",
      "model_module_version": "1.5.0",
      "model_name": "DescriptionStyleModel",
      "state": {
       "description_width": ""
      }
     },
     "83a9bcda08944e6e8a85e93007f178a3": {
      "model_module": "@jupyter-widgets/controls",
      "model_module_version": "1.5.0",
      "model_name": "VBoxModel",
      "state": {
       "layout": "IPY_MODEL_8093485e4ebe4e6c97fa30ec865866ba"
      }
     },
     "83b2ee0fab9f4668a38c351c2bb744ac": {
      "model_module": "@jupyter-widgets/controls",
      "model_module_version": "1.5.0",
      "model_name": "HTMLModel",
      "state": {
       "layout": "IPY_MODEL_8998b9a303f0494e900b6968bf3790c9",
       "style": "IPY_MODEL_e10e2bee4c754d64ad133cb052a15513",
       "value": "Loading ..."
      }
     },
     "84303ebf29c64b03b28a7547f6e64a63": {
      "model_module": "@jupyter-widgets/base",
      "model_module_version": "1.2.0",
      "model_name": "LayoutModel",
      "state": {}
     },
     "854648e0c3d74bfbbe6a722ea3a8864c": {
      "model_module": "@jupyter-widgets/controls",
      "model_module_version": "1.5.0",
      "model_name": "VBoxModel",
      "state": {
       "_dom_classes": [
        "bamboolib-window"
       ],
       "layout": "IPY_MODEL_6304a808176f40dca25ac5d93049b266"
      }
     },
     "854f894c87974c22904f7151d2bf4127": {
      "model_module": "@jupyter-widgets/controls",
      "model_module_version": "1.5.0",
      "model_name": "VBoxModel",
      "state": {
       "_dom_classes": [
        "bamboolib-window"
       ],
       "layout": "IPY_MODEL_0d10ef4313bb4207b8be4e96130da60d"
      }
     },
     "86bf7bef74e541488243a4fe406381aa": {
      "model_module": "@jupyter-widgets/controls",
      "model_module_version": "1.5.0",
      "model_name": "HBoxModel",
      "state": {
       "_dom_classes": [
        "bamboolib-overflow-visible"
       ],
       "layout": "IPY_MODEL_c5fd63dab8eb4829ab85d37f617b1f2c"
      }
     },
     "86eabcb7ad2b40b792929702ebe48e36": {
      "model_module": "@jupyter-widgets/controls",
      "model_module_version": "1.5.0",
      "model_name": "VBoxModel",
      "state": {
       "layout": "IPY_MODEL_9413bbf7433a40e08a57fd80228d11a5"
      }
     },
     "87ed69fd00c147c1afbe4877f5e575a3": {
      "model_module": "@jupyter-widgets/controls",
      "model_module_version": "1.5.0",
      "model_name": "LabelModel",
      "state": {
       "_dom_classes": [
        "bamboolib-element-next-to-selectize",
        "bamboolib-wrangler-shape-label"
       ],
       "layout": "IPY_MODEL_153b8e27ae4845488bc738b6f0b2d885",
       "style": "IPY_MODEL_1a35786eb7ee4560ba1ece77ba8466c6",
       "value": "1,740 rows × 158 columns - preview"
      }
     },
     "886ba1ac5ff24b96a84eae8f044d3fae": {
      "model_module": "@jupyter-widgets/controls",
      "model_module_version": "1.5.0",
      "model_name": "VBoxModel",
      "state": {
       "_dom_classes": [
        "bamboolib-window",
        "bamboolib-full-modal"
       ],
       "layout": "IPY_MODEL_e1e5d00842eb4d77be2fe6f09a40e72a"
      }
     },
     "894a2934c0b8450a93b039ecb0f89744": {
      "model_module": "@jupyter-widgets/base",
      "model_module_version": "1.2.0",
      "model_name": "LayoutModel",
      "state": {}
     },
     "8998b9a303f0494e900b6968bf3790c9": {
      "model_module": "@jupyter-widgets/base",
      "model_module_version": "1.2.0",
      "model_name": "LayoutModel",
      "state": {}
     },
     "8ae93ba15bc4448fbf7c6342f723fe3d": {
      "model_module": "@jupyter-widgets/controls",
      "model_module_version": "1.5.0",
      "model_name": "VBoxModel",
      "state": {
       "_dom_classes": [
        "bamboolib-window",
        "bamboolib-full-modal"
       ],
       "layout": "IPY_MODEL_4dad1e892fc2471a8997f2f1c16306af"
      }
     },
     "8b9c9f94663a4642ae2a1497467c5efe": {
      "model_module": "@jupyter-widgets/base",
      "model_module_version": "1.2.0",
      "model_name": "LayoutModel",
      "state": {}
     },
     "8d6ad895ff174821aa757630bf1c6d7f": {
      "model_module": "@jupyter-widgets/output",
      "model_module_version": "1.0.0",
      "model_name": "OutputModel",
      "state": {
       "layout": "IPY_MODEL_fe61b7eefd2f4c748f87c9ee863de62c",
       "outputs": [
        {
         "data": {
          "text/html": "<div>\n<style scoped>\n    .dataframe tbody tr th:only-of-type {\n        vertical-align: middle;\n    }\n\n    .dataframe tbody tr th {\n        vertical-align: top;\n    }\n\n    .dataframe thead th {\n        text-align: right;\n    }\n</style>\n<table border=\"1\" class=\"dataframe\">\n  <thead>\n    <tr style=\"text-align: right;\">\n      <th></th>\n      <th>Unnamed: 0</th>\n      <th>v_id</th>\n      <th>v_Q001</th>\n      <th>v_adm_dir_ind</th>\n      <th>v_orgao_central</th>\n      <th>v_Q005</th>\n      <th>v_Q007_SQ025</th>\n      <th>v_Q007_SQ002</th>\n      <th>v_Q007_SQ003</th>\n      <th>v_Q007_SQ005</th>\n      <th>...</th>\n      <th>v_Q02562_SQ004</th>\n      <th>v_Q02562_SQ005</th>\n      <th>v_Q02562_SQ006</th>\n      <th>v_Q02562_SQ007</th>\n      <th>v_Q02562_SQ008</th>\n      <th>v_Q02562_SQ009</th>\n      <th>v_Q02562_SQ010</th>\n      <th>v_Q02562_other</th>\n      <th>v_Q0256</th>\n      <th>v_Q026</th>\n    </tr>\n  </thead>\n  <tbody>\n    <tr>\n      <th>0</th>\n      <td>1</td>\n      <td>347</td>\n      <td>AEB</td>\n      <td>INDIRETA</td>\n      <td>MCTIC</td>\n      <td>1.0</td>\n      <td>0</td>\n      <td>0</td>\n      <td>0</td>\n      <td>1</td>\n      <td>...</td>\n      <td>0.0</td>\n      <td>0.0</td>\n      <td>0.0</td>\n      <td>0.0</td>\n      <td>0.0</td>\n      <td>0.0</td>\n      <td>0.0</td>\n      <td>NaN</td>\n      <td>NaN</td>\n      <td>1</td>\n    </tr>\n    <tr>\n      <th>1</th>\n      <td>2</td>\n      <td>343</td>\n      <td>AEB</td>\n      <td>INDIRETA</td>\n      <td>MCTIC</td>\n      <td>1.0</td>\n      <td>0</td>\n      <td>1</td>\n      <td>1</td>\n      <td>1</td>\n      <td>...</td>\n      <td>0.0</td>\n      <td>0.0</td>\n      <td>0.0</td>\n      <td>0.0</td>\n      <td>0.0</td>\n      <td>0.0</td>\n      <td>0.0</td>\n      <td>NaN</td>\n      <td>NaN</td>\n      <td>1</td>\n    </tr>\n    <tr>\n      <th>2</th>\n      <td>3</td>\n      <td>354</td>\n      <td>AEB</td>\n      <td>INDIRETA</td>\n      <td>MCTIC</td>\n      <td>1.0</td>\n      <td>0</td>\n      <td>0</td>\n      <td>0</td>\n      <td>0</td>\n      <td>...</td>\n      <td>0.0</td>\n      <td>0.0</td>\n      <td>0.0</td>\n      <td>0.0</td>\n      <td>0.0</td>\n      <td>0.0</td>\n      <td>0.0</td>\n      <td>NaN</td>\n      <td>NaN</td>\n      <td>2</td>\n    </tr>\n    <tr>\n      <th>3</th>\n      <td>4</td>\n      <td>325</td>\n      <td>AEB</td>\n      <td>INDIRETA</td>\n      <td>MCTIC</td>\n      <td>1.0</td>\n      <td>0</td>\n      <td>0</td>\n      <td>1</td>\n      <td>0</td>\n      <td>...</td>\n      <td>0.0</td>\n      <td>0.0</td>\n      <td>0.0</td>\n      <td>0.0</td>\n      <td>0.0</td>\n      <td>0.0</td>\n      <td>0.0</td>\n      <td>0.0</td>\n      <td>NaN</td>\n      <td>1</td>\n    </tr>\n    <tr>\n      <th>4</th>\n      <td>5</td>\n      <td>369</td>\n      <td>AEB</td>\n      <td>INDIRETA</td>\n      <td>MCTIC</td>\n      <td>1.0</td>\n      <td>0</td>\n      <td>0</td>\n      <td>1</td>\n      <td>0</td>\n      <td>...</td>\n      <td>0.0</td>\n      <td>0.0</td>\n      <td>0.0</td>\n      <td>0.0</td>\n      <td>0.0</td>\n      <td>0.0</td>\n      <td>0.0</td>\n      <td>0.0</td>\n      <td>NaN</td>\n      <td>1</td>\n    </tr>\n    <tr>\n      <th>...</th>\n      <td>...</td>\n      <td>...</td>\n      <td>...</td>\n      <td>...</td>\n      <td>...</td>\n      <td>...</td>\n      <td>...</td>\n      <td>...</td>\n      <td>...</td>\n      <td>...</td>\n      <td>...</td>\n      <td>...</td>\n      <td>...</td>\n      <td>...</td>\n      <td>...</td>\n      <td>...</td>\n      <td>...</td>\n      <td>...</td>\n      <td>...</td>\n      <td>...</td>\n      <td>...</td>\n    </tr>\n    <tr>\n      <th>1735</th>\n      <td>1736</td>\n      <td>149</td>\n      <td>SUDENE</td>\n      <td>INDIRETA</td>\n      <td>MI</td>\n      <td>2.0</td>\n      <td>0</td>\n      <td>1</td>\n      <td>0</td>\n      <td>1</td>\n      <td>...</td>\n      <td>0.0</td>\n      <td>0.0</td>\n      <td>0.0</td>\n      <td>0.0</td>\n      <td>0.0</td>\n      <td>0.0</td>\n      <td>0.0</td>\n      <td>NaN</td>\n      <td>NaN</td>\n      <td>3</td>\n    </tr>\n    <tr>\n      <th>1736</th>\n      <td>1737</td>\n      <td>187</td>\n      <td>SUSEP</td>\n      <td>INDIRETA</td>\n      <td>MF</td>\n      <td>2.0</td>\n      <td>0</td>\n      <td>0</td>\n      <td>1</td>\n      <td>0</td>\n      <td>...</td>\n      <td>0.0</td>\n      <td>0.0</td>\n      <td>0.0</td>\n      <td>0.0</td>\n      <td>0.0</td>\n      <td>0.0</td>\n      <td>0.0</td>\n      <td>NaN</td>\n      <td>NaN</td>\n      <td>2</td>\n    </tr>\n    <tr>\n      <th>1737</th>\n      <td>1738</td>\n      <td>195</td>\n      <td>SUSEP</td>\n      <td>INDIRETA</td>\n      <td>MF</td>\n      <td>1.0</td>\n      <td>0</td>\n      <td>0</td>\n      <td>1</td>\n      <td>0</td>\n      <td>...</td>\n      <td>0.0</td>\n      <td>0.0</td>\n      <td>0.0</td>\n      <td>0.0</td>\n      <td>0.0</td>\n      <td>0.0</td>\n      <td>0.0</td>\n      <td>NaN</td>\n      <td>NaN</td>\n      <td>2</td>\n    </tr>\n    <tr>\n      <th>1738</th>\n      <td>1739</td>\n      <td>213</td>\n      <td>SUSEP</td>\n      <td>INDIRETA</td>\n      <td>MF</td>\n      <td>1.0</td>\n      <td>0</td>\n      <td>0</td>\n      <td>1</td>\n      <td>0</td>\n      <td>...</td>\n      <td>0.0</td>\n      <td>0.0</td>\n      <td>0.0</td>\n      <td>0.0</td>\n      <td>0.0</td>\n      <td>0.0</td>\n      <td>0.0</td>\n      <td>NaN</td>\n      <td>NaN</td>\n      <td>2</td>\n    </tr>\n    <tr>\n      <th>1739</th>\n      <td>1740</td>\n      <td>215</td>\n      <td>SUSEP</td>\n      <td>INDIRETA</td>\n      <td>MF</td>\n      <td>1.0</td>\n      <td>0</td>\n      <td>0</td>\n      <td>0</td>\n      <td>0</td>\n      <td>...</td>\n      <td>0.0</td>\n      <td>0.0</td>\n      <td>0.0</td>\n      <td>0.0</td>\n      <td>0.0</td>\n      <td>0.0</td>\n      <td>0.0</td>\n      <td>NaN</td>\n      <td>NaN</td>\n      <td>2</td>\n    </tr>\n  </tbody>\n</table>\n<p>1740 rows × 158 columns</p>\n</div>",
          "text/plain": "      Unnamed: 0  v_id  v_Q001 v_adm_dir_ind v_orgao_central  v_Q005  \\\n0              1   347     AEB      INDIRETA           MCTIC     1.0   \n1              2   343     AEB      INDIRETA           MCTIC     1.0   \n2              3   354     AEB      INDIRETA           MCTIC     1.0   \n3              4   325     AEB      INDIRETA           MCTIC     1.0   \n4              5   369     AEB      INDIRETA           MCTIC     1.0   \n...          ...   ...     ...           ...             ...     ...   \n1735        1736   149  SUDENE      INDIRETA              MI     2.0   \n1736        1737   187   SUSEP      INDIRETA              MF     2.0   \n1737        1738   195   SUSEP      INDIRETA              MF     1.0   \n1738        1739   213   SUSEP      INDIRETA              MF     1.0   \n1739        1740   215   SUSEP      INDIRETA              MF     1.0   \n\n      v_Q007_SQ025  v_Q007_SQ002  v_Q007_SQ003  v_Q007_SQ005  ...  \\\n0                0             0             0             1  ...   \n1                0             1             1             1  ...   \n2                0             0             0             0  ...   \n3                0             0             1             0  ...   \n4                0             0             1             0  ...   \n...            ...           ...           ...           ...  ...   \n1735             0             1             0             1  ...   \n1736             0             0             1             0  ...   \n1737             0             0             1             0  ...   \n1738             0             0             1             0  ...   \n1739             0             0             0             0  ...   \n\n      v_Q02562_SQ004  v_Q02562_SQ005  v_Q02562_SQ006  v_Q02562_SQ007  \\\n0                0.0             0.0             0.0             0.0   \n1                0.0             0.0             0.0             0.0   \n2                0.0             0.0             0.0             0.0   \n3                0.0             0.0             0.0             0.0   \n4                0.0             0.0             0.0             0.0   \n...              ...             ...             ...             ...   \n1735             0.0             0.0             0.0             0.0   \n1736             0.0             0.0             0.0             0.0   \n1737             0.0             0.0             0.0             0.0   \n1738             0.0             0.0             0.0             0.0   \n1739             0.0             0.0             0.0             0.0   \n\n      v_Q02562_SQ008  v_Q02562_SQ009  v_Q02562_SQ010  v_Q02562_other  v_Q0256  \\\n0                0.0             0.0             0.0             NaN      NaN   \n1                0.0             0.0             0.0             NaN      NaN   \n2                0.0             0.0             0.0             NaN      NaN   \n3                0.0             0.0             0.0             0.0      NaN   \n4                0.0             0.0             0.0             0.0      NaN   \n...              ...             ...             ...             ...      ...   \n1735             0.0             0.0             0.0             NaN      NaN   \n1736             0.0             0.0             0.0             NaN      NaN   \n1737             0.0             0.0             0.0             NaN      NaN   \n1738             0.0             0.0             0.0             NaN      NaN   \n1739             0.0             0.0             0.0             NaN      NaN   \n\n      v_Q026  \n0          1  \n1          1  \n2          2  \n3          1  \n4          1  \n...      ...  \n1735       3  \n1736       2  \n1737       2  \n1738       2  \n1739       2  \n\n[1740 rows x 158 columns]"
         },
         "metadata": {},
         "output_type": "display_data"
        }
       ]
      }
     },
     "90535c1bb14649a0a8e4b3881ab6afe9": {
      "model_module": "@jupyter-widgets/base",
      "model_module_version": "1.2.0",
      "model_name": "LayoutModel",
      "state": {}
     },
     "90d6f01f1f55492bb03c15af345c2ff5": {
      "model_module": "@jupyter-widgets/base",
      "model_module_version": "1.2.0",
      "model_name": "LayoutModel",
      "state": {}
     },
     "9112495003b9475199a8350542c2c5dd": {
      "model_module": "@jupyter-widgets/controls",
      "model_module_version": "1.5.0",
      "model_name": "HTMLModel",
      "state": {
       "layout": "IPY_MODEL_b6e9b7882cd04bda99b8f21ab2e39c27",
       "style": "IPY_MODEL_367072283b15408f9a8cbee42f7db7f1",
       "value": "<div style='height:12px;'></div>"
      }
     },
     "912dc8d5bd0049ea8aa42bfa4bcc530f": {
      "model_module": "@jupyter-widgets/base",
      "model_module_version": "1.2.0",
      "model_name": "LayoutModel",
      "state": {}
     },
     "917d3c41fcd544a78dad7e338f900856": {
      "model_module": "@jupyter-widgets/controls",
      "model_module_version": "1.5.0",
      "model_name": "ButtonStyleModel",
      "state": {}
     },
     "921eab36e4d9484b97b4dc195515920f": {
      "model_module": "@jupyter-widgets/controls",
      "model_module_version": "1.5.0",
      "model_name": "HTMLModel",
      "state": {
       "layout": "IPY_MODEL_cc2e4db0e2894d01bf057e19dfdbabfd",
       "style": "IPY_MODEL_74deeb09ebd34717aae4f1cf5dd442d4"
      }
     },
     "92665504e389405e9b6c0473de41fc2d": {
      "model_module": "@jupyter-widgets/base",
      "model_module_version": "1.2.0",
      "model_name": "LayoutModel",
      "state": {}
     },
     "9326096d61e7468c83f30abc5bf5c53a": {
      "model_module": "@jupyter-widgets/base",
      "model_module_version": "1.2.0",
      "model_name": "LayoutModel",
      "state": {}
     },
     "9413bbf7433a40e08a57fd80228d11a5": {
      "model_module": "@jupyter-widgets/base",
      "model_module_version": "1.2.0",
      "model_name": "LayoutModel",
      "state": {}
     },
     "96ac4fc6f59245efbea38ba38f623554": {
      "model_module": "@jupyter-widgets/base",
      "model_module_version": "1.2.0",
      "model_name": "LayoutModel",
      "state": {}
     },
     "96acc749146442c6b534bcf0ad664786": {
      "model_module": "@jupyter-widgets/controls",
      "model_module_version": "1.5.0",
      "model_name": "VBoxModel",
      "state": {
       "_dom_classes": [
        "bamboolib-loader-modal"
       ],
       "children": [
        "IPY_MODEL_1bc24353635248779736bfba4b6f4239"
       ],
       "layout": "IPY_MODEL_1639a08e462941a39e87482c118bda20"
      }
     },
     "9a26c52c83a04b6baadcd4b3ab00f2aa": {
      "model_module": "@jupyter-widgets/controls",
      "model_module_version": "1.5.0",
      "model_name": "VBoxModel",
      "state": {
       "layout": "IPY_MODEL_5b9d524596d84a5e8cb28914e65c9da5"
      }
     },
     "9b9c1f74a58e4988bcfe89e7dd5a5a1d": {
      "model_module": "@jupyter-widgets/controls",
      "model_module_version": "1.5.0",
      "model_name": "VBoxModel",
      "state": {
       "_dom_classes": [
        "bamboolib-window",
        "bamboolib-full-modal"
       ],
       "layout": "IPY_MODEL_ac4a3d042d0c4f6b87d36ee25d4bc21d"
      }
     },
     "9cea44abc0ae4a4aaee777adbb3d7c3d": {
      "model_module": "@jupyter-widgets/base",
      "model_module_version": "1.2.0",
      "model_name": "LayoutModel",
      "state": {}
     },
     "9d53500d2303465c9137105ef6f29e8f": {
      "model_module": "@jupyter-widgets/controls",
      "model_module_version": "1.5.0",
      "model_name": "VBoxModel",
      "state": {
       "layout": "IPY_MODEL_37a5762972f549989b5389c6339c2099"
      }
     },
     "9e0f35a3a5e04240b20b640a68879a09": {
      "model_module": "@jupyter-widgets/base",
      "model_module_version": "1.2.0",
      "model_name": "LayoutModel",
      "state": {}
     },
     "9fab32c2d68c4a2cb4f4b4252af269eb": {
      "model_module": "@jupyter-widgets/controls",
      "model_module_version": "1.5.0",
      "model_name": "HBoxModel",
      "state": {
       "layout": "IPY_MODEL_71d4ef5694c649b58b07100b75bd19d8"
      }
     },
     "a0b49633cd73497f87f56e1b0d97ea0f": {
      "model_module": "@jupyter-widgets/base",
      "model_module_version": "1.2.0",
      "model_name": "LayoutModel",
      "state": {}
     },
     "a1271c40aae141a48e604f3087b8216d": {
      "model_module": "@jupyter-widgets/base",
      "model_module_version": "1.2.0",
      "model_name": "LayoutModel",
      "state": {}
     },
     "a1c366e4812b407cba803890f44b7e08": {
      "model_module": "@jupyter-widgets/controls",
      "model_module_version": "1.5.0",
      "model_name": "HTMLModel",
      "state": {
       "layout": "IPY_MODEL_6173d59dd2144ad9b45c394c594e7418",
       "style": "IPY_MODEL_3019ab35c7244fda9ecfff78337e2c4f",
       "value": "<div style='height:20px;'></div>"
      }
     },
     "a3ba7a71038349da9ac906d18c660cb0": {
      "model_module": "@jupyter-widgets/base",
      "model_module_version": "1.2.0",
      "model_name": "LayoutModel",
      "state": {}
     },
     "a3e261ea9dc9402db430d35a65d666b8": {
      "model_module": "@jupyter-widgets/controls",
      "model_module_version": "1.5.0",
      "model_name": "HTMLModel",
      "state": {
       "layout": "IPY_MODEL_4b49a1d9caf24228bdb8e4f69c46ea6f",
       "style": "IPY_MODEL_1d9f7b2ee2b24c05abcff29f62a5a998",
       "value": "Loading ..."
      }
     },
     "a40ba3af0a1e4385ae0d396395ac1084": {
      "model_module": "@jupyter-widgets/controls",
      "model_module_version": "1.5.0",
      "model_name": "HTMLModel",
      "state": {
       "layout": "IPY_MODEL_0e5c68960cb740ac93f40b2db1439811",
       "style": "IPY_MODEL_10e1a7839486477a857014d635e122b4"
      }
     },
     "a455c4b59d7a42ceb2dbf6f6dc7b1271": {
      "model_module": "@jupyter-widgets/base",
      "model_module_version": "1.2.0",
      "model_name": "LayoutModel",
      "state": {}
     },
     "a4ef5318278c4f7084fbe5fde8be6e21": {
      "model_module": "@jupyter-widgets/base",
      "model_module_version": "1.2.0",
      "model_name": "LayoutModel",
      "state": {}
     },
     "a52f102d1ef2492fa283d0a4b22fafa0": {
      "model_module": "@jupyter-widgets/base",
      "model_module_version": "1.2.0",
      "model_name": "LayoutModel",
      "state": {}
     },
     "a5644158b8454ac680496092ea5cf975": {
      "model_module": "@jupyter-widgets/base",
      "model_module_version": "1.2.0",
      "model_name": "LayoutModel",
      "state": {}
     },
     "a576e9ad9499436393cad24d9aec79a3": {
      "model_module": "@jupyter-widgets/controls",
      "model_module_version": "1.5.0",
      "model_name": "DescriptionStyleModel",
      "state": {
       "description_width": ""
      }
     },
     "a5fc46d7f7ce44269c17039b68ea82a7": {
      "model_module": "@jupyter-widgets/base",
      "model_module_version": "1.2.0",
      "model_name": "LayoutModel",
      "state": {}
     },
     "a67b8403c6ee4fa9865398f4d73e89f7": {
      "model_module": "@jupyter-widgets/base",
      "model_module_version": "1.2.0",
      "model_name": "LayoutModel",
      "state": {}
     },
     "a7f362ef6cf7440d88a6602925e47061": {
      "model_module": "@jupyter-widgets/controls",
      "model_module_version": "1.5.0",
      "model_name": "HTMLModel",
      "state": {
       "layout": "IPY_MODEL_7938cbfa5752461c8ea206301aaa774a",
       "style": "IPY_MODEL_3a3666fcdffc439fb60ddd45c9b1ec63"
      }
     },
     "aa0f48dfcb7449b4ae4d2ab6eb8c039f": {
      "model_module": "@jupyter-widgets/base",
      "model_module_version": "1.2.0",
      "model_name": "LayoutModel",
      "state": {}
     },
     "aa249b996cfd4205829851792bdf26af": {
      "model_module": "@jupyter-widgets/controls",
      "model_module_version": "1.5.0",
      "model_name": "ButtonStyleModel",
      "state": {}
     },
     "ab0b9fba3747444a95208479d5e2202d": {
      "model_module": "@jupyter-widgets/controls",
      "model_module_version": "1.5.0",
      "model_name": "VBoxModel",
      "state": {
       "children": [
        "IPY_MODEL_de848a40c6d246f0a5caac601f2b544b",
        "IPY_MODEL_7d65610897764ddfba4c388d3bc12eea"
       ],
       "layout": "IPY_MODEL_698e14162c3b4bbe9b158fb40796cc35"
      }
     },
     "ab6e7bf22905410cb246c7b935ca7025": {
      "model_module": "@jupyter-widgets/base",
      "model_module_version": "1.2.0",
      "model_name": "LayoutModel",
      "state": {}
     },
     "abc14d719ac84982b959ec02b013c597": {
      "model_module": "@jupyter-widgets/base",
      "model_module_version": "1.2.0",
      "model_name": "LayoutModel",
      "state": {}
     },
     "ac4a3d042d0c4f6b87d36ee25d4bc21d": {
      "model_module": "@jupyter-widgets/base",
      "model_module_version": "1.2.0",
      "model_name": "LayoutModel",
      "state": {}
     },
     "acd5ec8a5c0244c895b613cf7fbf2949": {
      "model_module": "@jupyter-widgets/controls",
      "model_module_version": "1.5.0",
      "model_name": "ButtonStyleModel",
      "state": {}
     },
     "aec2b30a041c4426a07c7c40ac37e4df": {
      "model_module": "@jupyter-widgets/base",
      "model_module_version": "1.2.0",
      "model_name": "LayoutModel",
      "state": {}
     },
     "af31fa7dd5ee453ea018d134dfb3c7f4": {
      "model_module": "@jupyter-widgets/base",
      "model_module_version": "1.2.0",
      "model_name": "LayoutModel",
      "state": {}
     },
     "afc32db6faeb48098cf3e2f8452e957c": {
      "model_module": "@jupyter-widgets/controls",
      "model_module_version": "1.5.0",
      "model_name": "LabelModel",
      "state": {
       "_dom_classes": [
        "bamboolib-element-next-to-selectize",
        "bamboolib-wrangler-shape-label"
       ],
       "layout": "IPY_MODEL_73916229fe6241739e77569b5c40459f",
       "style": "IPY_MODEL_67ef8982f96948aa98935ff6fc8bd1ac",
       "value": "1,740 rows × 158 columns - preview"
      }
     },
     "b01ea96b14f64b55b30524647860000c": {
      "model_module": "@jupyter-widgets/controls",
      "model_module_version": "1.5.0",
      "model_name": "VBoxModel",
      "state": {
       "children": [
        "IPY_MODEL_6e682c008968412b8efbce21f48262e4",
        "IPY_MODEL_df919c11d4144434b341c0c0b9daa428"
       ],
       "layout": "IPY_MODEL_a52f102d1ef2492fa283d0a4b22fafa0"
      }
     },
     "b252997d80ff4c6490bebcdd40404081": {
      "model_module": "@jupyter-widgets/controls",
      "model_module_version": "1.5.0",
      "model_name": "DescriptionStyleModel",
      "state": {
       "description_width": ""
      }
     },
     "b32a6c95572d420aa384ec4e9765517e": {
      "model_module": "@jupyter-widgets/controls",
      "model_module_version": "1.5.0",
      "model_name": "VBoxModel",
      "state": {
       "_dom_classes": [
        "bamboolib-loader-modal"
       ],
       "children": [
        "IPY_MODEL_83b2ee0fab9f4668a38c351c2bb744ac"
       ],
       "layout": "IPY_MODEL_e80d5e6f8f1d415ebe57ead91c82669a"
      }
     },
     "b3515dcc328a4d85bb6f037e5d8ec49a": {
      "model_module": "@jupyter-widgets/controls",
      "model_module_version": "1.5.0",
      "model_name": "VBoxModel",
      "state": {
       "children": [
        "IPY_MODEL_370eeb2a6c5549fab46a1a4a5f3e59a4",
        "IPY_MODEL_7b407f0d38c04bc3a31746091ed4c446",
        "IPY_MODEL_15bd83d62bff4467b02ec3d0eb545a3e",
        "IPY_MODEL_06f19512479d4cf8954ab338cc5fa4a9",
        "IPY_MODEL_e7c3fbc006894c45b1fa942d6935a2df",
        "IPY_MODEL_83a9bcda08944e6e8a85e93007f178a3",
        "IPY_MODEL_4db7d6e7e6d0413291a55bec2796b2bb",
        "IPY_MODEL_e59c8a29efd44e18a69331265b55b72e",
        "IPY_MODEL_86eabcb7ad2b40b792929702ebe48e36",
        "IPY_MODEL_589a8d8b1eb04df7a7eafd2eeed9bb23"
       ],
       "layout": "IPY_MODEL_912dc8d5bd0049ea8aa42bfa4bcc530f"
      }
     },
     "b3b12617decd462899a2e2f200f6e666": {
      "model_module": "@jupyter-widgets/base",
      "model_module_version": "1.2.0",
      "model_name": "LayoutModel",
      "state": {}
     },
     "b3e81f98a9b541d7ab80af828683e98e": {
      "model_module": "@jupyter-widgets/controls",
      "model_module_version": "1.5.0",
      "model_name": "DescriptionStyleModel",
      "state": {
       "description_width": ""
      }
     },
     "b3f88f64bdf948a89f12584207204519": {
      "model_module": "@jupyter-widgets/base",
      "model_module_version": "1.2.0",
      "model_name": "LayoutModel",
      "state": {}
     },
     "b4022db4e94f4d3fb2de43099434a6e2": {
      "model_module": "@jupyter-widgets/base",
      "model_module_version": "1.2.0",
      "model_name": "LayoutModel",
      "state": {}
     },
     "b484ae5eb41d4016b167c0244f1a83ae": {
      "model_module": "@jupyter-widgets/base",
      "model_module_version": "1.2.0",
      "model_name": "LayoutModel",
      "state": {}
     },
     "b56b21e266fd4f3e8908c447d2928772": {
      "model_module": "@jupyter-widgets/controls",
      "model_module_version": "1.5.0",
      "model_name": "HTMLModel",
      "state": {
       "layout": "IPY_MODEL_06ebf254795b4b968a45a9d9e8c81a25",
       "style": "IPY_MODEL_79359870afc54570b89e5fc490e6c91a",
       "value": "<div style='height:20px;'></div>"
      }
     },
     "b61c221f21b645cd80b6620acdc9fcc8": {
      "model_module": "@jupyter-widgets/base",
      "model_module_version": "1.2.0",
      "model_name": "LayoutModel",
      "state": {}
     },
     "b6e9b7882cd04bda99b8f21ab2e39c27": {
      "model_module": "@jupyter-widgets/base",
      "model_module_version": "1.2.0",
      "model_name": "LayoutModel",
      "state": {}
     },
     "b754444d68484200b571842b2d751935": {
      "model_module": "@jupyter-widgets/base",
      "model_module_version": "1.2.0",
      "model_name": "LayoutModel",
      "state": {}
     },
     "b82f20e0cbf04c09bafc18624c38a6fc": {
      "model_module": "@jupyter-widgets/controls",
      "model_module_version": "1.5.0",
      "model_name": "HTMLModel",
      "state": {
       "layout": "IPY_MODEL_b3f88f64bdf948a89f12584207204519",
       "style": "IPY_MODEL_c6e4c502b75746d8a1901abe8f29e674"
      }
     },
     "b9f2f961b4c64afba4d8a2d762919a5d": {
      "model_module": "@jupyter-widgets/controls",
      "model_module_version": "1.5.0",
      "model_name": "VBoxModel",
      "state": {
       "children": [
        "IPY_MODEL_2ea8a5cf8c5f49f388c877d3785f392d",
        "IPY_MODEL_d131b7d42eb04e38a39283925e21fe15",
        "IPY_MODEL_30ece2b7bad84d259ddebdfb75e13d6e",
        "IPY_MODEL_62bc7dccecb044749bdf7e3433294bbb",
        "IPY_MODEL_e11f540676dd448bb9e59a826b806544",
        "IPY_MODEL_69750edfb2ea4ae88ce1c17fac855719",
        "IPY_MODEL_f7fb97e9926f48d38c8f413083ca0ae9",
        "IPY_MODEL_1a88e58ebc4e41e486c529ba4587513d",
        "IPY_MODEL_42d94fa2f1cf4c72be4ef4801bceb173",
        "IPY_MODEL_e04db1698e9f4cf3b6812242b83a1b6a"
       ],
       "layout": "IPY_MODEL_df7d4c84cf6648f7b0e5f721212067f9"
      }
     },
     "ba4be2b58dcf42eab81806c93dc789ee": {
      "model_module": "@jupyter-widgets/base",
      "model_module_version": "1.2.0",
      "model_name": "LayoutModel",
      "state": {}
     },
     "bcc2468b182745aa971173d52804ae24": {
      "model_module": "@jupyter-widgets/base",
      "model_module_version": "1.2.0",
      "model_name": "LayoutModel",
      "state": {}
     },
     "be402c3d239747da8d27b600c57b11e6": {
      "model_module": "@jupyter-widgets/base",
      "model_module_version": "1.2.0",
      "model_name": "LayoutModel",
      "state": {}
     },
     "bf1e1c25423c4bb4b86df4397088cb83": {
      "model_module": "@jupyter-widgets/controls",
      "model_module_version": "1.5.0",
      "model_name": "DescriptionStyleModel",
      "state": {
       "description_width": ""
      }
     },
     "c04e69361916410589fa34c832520195": {
      "model_module": "@jupyter-widgets/base",
      "model_module_version": "1.2.0",
      "model_name": "LayoutModel",
      "state": {}
     },
     "c0838127192a438186edc434a3b6e2d7": {
      "model_module": "@jupyter-widgets/base",
      "model_module_version": "1.2.0",
      "model_name": "LayoutModel",
      "state": {}
     },
     "c0efb6ff2822468285181bcdb9b60256": {
      "model_module": "@jupyter-widgets/controls",
      "model_module_version": "1.5.0",
      "model_name": "VBoxModel",
      "state": {
       "_dom_classes": [
        "bamboolib-overflow-visible"
       ],
       "layout": "IPY_MODEL_23829a8e706a4f079635a983a8735d21"
      }
     },
     "c56f9a976a5e4f3288f999c2c6b53507": {
      "model_module": "@jupyter-widgets/controls",
      "model_module_version": "1.5.0",
      "model_name": "DescriptionStyleModel",
      "state": {
       "description_width": ""
      }
     },
     "c581f3ef6e274fad817bb9a6b237a408": {
      "model_module": "@jupyter-widgets/controls",
      "model_module_version": "1.5.0",
      "model_name": "VBoxModel",
      "state": {
       "_dom_classes": [
        "bamboolib-window"
       ],
       "layout": "IPY_MODEL_25e2f750f65a4e65b3df11ff14809b6f"
      }
     },
     "c5fd63dab8eb4829ab85d37f617b1f2c": {
      "model_module": "@jupyter-widgets/base",
      "model_module_version": "1.2.0",
      "model_name": "LayoutModel",
      "state": {}
     },
     "c6e4c502b75746d8a1901abe8f29e674": {
      "model_module": "@jupyter-widgets/controls",
      "model_module_version": "1.5.0",
      "model_name": "DescriptionStyleModel",
      "state": {
       "description_width": ""
      }
     },
     "c7775c8c99964e43b904a607f5284093": {
      "model_module": "@jupyter-widgets/controls",
      "model_module_version": "1.5.0",
      "model_name": "CheckboxModel",
      "state": {
       "_dom_classes": [
        "bamboolib-checkbox"
       ],
       "description": "Live Code Export",
       "disabled": false,
       "layout": "IPY_MODEL_f641bab98b3546d09e1b33d5787b450c",
       "style": "IPY_MODEL_49b78d6fc7ee4e83926388b53a92fa4d",
       "value": true
      }
     },
     "c8c50f2296fd4732a2f48f5fdf9253b7": {
      "model_module": "@jupyter-widgets/base",
      "model_module_version": "1.2.0",
      "model_name": "LayoutModel",
      "state": {}
     },
     "ca5f0fa7c58c4d38847deddc3dcdb04f": {
      "model_module": "@jupyter-widgets/base",
      "model_module_version": "1.2.0",
      "model_name": "LayoutModel",
      "state": {}
     },
     "cc035bf93871493ca5d4e3692691f707": {
      "model_module": "@jupyter-widgets/controls",
      "model_module_version": "1.5.0",
      "model_name": "VBoxModel",
      "state": {
       "_dom_classes": [
        "bamboolib-window",
        "bamboolib-full-modal"
       ],
       "layout": "IPY_MODEL_4e4405fbf3074cd99e2d035451dff6d6"
      }
     },
     "cc2e4db0e2894d01bf057e19dfdbabfd": {
      "model_module": "@jupyter-widgets/base",
      "model_module_version": "1.2.0",
      "model_name": "LayoutModel",
      "state": {}
     },
     "ccb17c792a48480a8abe411620c210b8": {
      "model_module": "@jupyter-widgets/controls",
      "model_module_version": "1.5.0",
      "model_name": "DescriptionStyleModel",
      "state": {
       "description_width": ""
      }
     },
     "ce16a359a5144480a6660a9db3011da9": {
      "model_module": "@jupyter-widgets/controls",
      "model_module_version": "1.5.0",
      "model_name": "HTMLModel",
      "state": {
       "layout": "IPY_MODEL_27b8195931d74314a4c52d685c0c97a1",
       "style": "IPY_MODEL_a576e9ad9499436393cad24d9aec79a3",
       "value": "<div style='height:24px;'></div>"
      }
     },
     "ce249003be654f9fb66b0aabe1b407dd": {
      "model_module": "@jupyter-widgets/base",
      "model_module_version": "1.2.0",
      "model_name": "LayoutModel",
      "state": {}
     },
     "cefede0b7dad471d90aff022cf72fad0": {
      "model_module": "@jupyter-widgets/controls",
      "model_module_version": "1.5.0",
      "model_name": "VBoxModel",
      "state": {
       "layout": "IPY_MODEL_56fbd80b37c1433e81617f03a1422705"
      }
     },
     "cf9075a514204e7bb7bc485016b62751": {
      "model_module": "@jupyter-widgets/base",
      "model_module_version": "1.2.0",
      "model_name": "LayoutModel",
      "state": {}
     },
     "d06d76eac104442fa3d902374b183e03": {
      "model_module": "@jupyter-widgets/base",
      "model_module_version": "1.2.0",
      "model_name": "LayoutModel",
      "state": {}
     },
     "d131b7d42eb04e38a39283925e21fe15": {
      "model_module": "@jupyter-widgets/controls",
      "model_module_version": "1.5.0",
      "model_name": "VBoxModel",
      "state": {
       "layout": "IPY_MODEL_fae2944006df4790b414c6ce6cf36a1e"
      }
     },
     "d13826d8002646a995491c796d0cb5b9": {
      "model_module": "@jupyter-widgets/base",
      "model_module_version": "1.2.0",
      "model_name": "LayoutModel",
      "state": {}
     },
     "d21d81ee9e354d21bbe7ffec3a93c73b": {
      "model_module": "@jupyter-widgets/base",
      "model_module_version": "1.2.0",
      "model_name": "LayoutModel",
      "state": {}
     },
     "d24b29fe3f7945d1b8e6e789d56b8962": {
      "model_module": "@jupyter-widgets/controls",
      "model_module_version": "1.5.0",
      "model_name": "VBoxModel",
      "state": {
       "_dom_classes": [
        "bamboolib-window",
        "bamboolib-full-modal"
       ],
       "layout": "IPY_MODEL_04f0c84ba9fa4ec184fcd289bee6194f"
      }
     },
     "d307b533eee64ee09028d45fe663b401": {
      "model_module": "@jupyter-widgets/controls",
      "model_module_version": "1.5.0",
      "model_name": "DescriptionStyleModel",
      "state": {
       "description_width": ""
      }
     },
     "d4bbce17292042ba92aa1ff929112c08": {
      "model_module": "@jupyter-widgets/controls",
      "model_module_version": "1.5.0",
      "model_name": "VBoxModel",
      "state": {
       "_dom_classes": [
        "bamboolib-hidden"
       ],
       "children": [
        "IPY_MODEL_3d564bee7f8449ae80dce0b103f4d824"
       ],
       "layout": "IPY_MODEL_1b54ee7f2625459682f92bdf31272720"
      }
     },
     "d4c8d19538c6417abc2b7ed7fad3cd3c": {
      "model_module": "@jupyter-widgets/base",
      "model_module_version": "1.2.0",
      "model_name": "LayoutModel",
      "state": {}
     },
     "d6faa8a51bb9476d8ffa9b4ab885d546": {
      "model_module": "@jupyter-widgets/base",
      "model_module_version": "1.2.0",
      "model_name": "LayoutModel",
      "state": {}
     },
     "d6fd0254691f49beaa69ee062ea4534f": {
      "model_module": "@jupyter-widgets/base",
      "model_module_version": "1.2.0",
      "model_name": "LayoutModel",
      "state": {}
     },
     "d7b3f643d2aa487abc753327538fb060": {
      "model_module": "@jupyter-widgets/base",
      "model_module_version": "1.2.0",
      "model_name": "LayoutModel",
      "state": {}
     },
     "d81788af9916420fbb8cfd1ab1171325": {
      "model_module": "@jupyter-widgets/base",
      "model_module_version": "1.2.0",
      "model_name": "LayoutModel",
      "state": {}
     },
     "d8e6be589a094817ba2977abe018c4ae": {
      "model_module": "@jupyter-widgets/controls",
      "model_module_version": "1.5.0",
      "model_name": "VBoxModel",
      "state": {
       "_dom_classes": [
        "bamboolib-window"
       ],
       "layout": "IPY_MODEL_32fed03532624d68a48fe1867c35e43b"
      }
     },
     "d9bccfc5ce5a4859be6a1426a65ed382": {
      "model_module": "@jupyter-widgets/base",
      "model_module_version": "1.2.0",
      "model_name": "LayoutModel",
      "state": {}
     },
     "dd2a34432a7848f2b29230e78448d1a7": {
      "model_module": "@jupyter-widgets/controls",
      "model_module_version": "1.5.0",
      "model_name": "VBoxModel",
      "state": {
       "_dom_classes": [
        "bamboolib-loader-modal"
       ],
       "children": [
        "IPY_MODEL_f5d1499759fc43f3aec47be474f43296"
       ],
       "layout": "IPY_MODEL_c8c50f2296fd4732a2f48f5fdf9253b7"
      }
     },
     "de848a40c6d246f0a5caac601f2b544b": {
      "model_module": "@jupyter-widgets/controls",
      "model_module_version": "1.5.0",
      "model_name": "HTMLModel",
      "state": {
       "layout": "IPY_MODEL_9326096d61e7468c83f30abc5bf5c53a",
       "style": "IPY_MODEL_354e66fe3d014c988fc83f0d825eb6a9",
       "value": "<div class=\"bamboolib-notification bamboolib-notification-info\"><b>Pro Tip:</b> save the time writing <code>bam.show(df)</code> and just write <code>df</code>. Enable this feature via <code>bam.enable()</code> and disable via <code>bam.disable()</code></div>"
      }
     },
     "def0a634fd9044f2b80f7fa0cbc78230": {
      "model_module": "@jupyter-widgets/controls",
      "model_module_version": "1.5.0",
      "model_name": "ButtonStyleModel",
      "state": {}
     },
     "df7d4c84cf6648f7b0e5f721212067f9": {
      "model_module": "@jupyter-widgets/base",
      "model_module_version": "1.2.0",
      "model_name": "LayoutModel",
      "state": {}
     },
     "df919c11d4144434b341c0c0b9daa428": {
      "model_module": "@jupyter-widgets/controls",
      "model_module_version": "1.5.0",
      "model_name": "VBoxModel",
      "state": {
       "children": [
        "IPY_MODEL_8d6ad895ff174821aa757630bf1c6d7f",
        "IPY_MODEL_d4bbce17292042ba92aa1ff929112c08"
       ],
       "layout": "IPY_MODEL_ca5f0fa7c58c4d38847deddc3dcdb04f"
      }
     },
     "e04db1698e9f4cf3b6812242b83a1b6a": {
      "model_module": "@jupyter-widgets/controls",
      "model_module_version": "1.5.0",
      "model_name": "VBoxModel",
      "state": {
       "layout": "IPY_MODEL_526037b453804326a3d23819fd0c6d33"
      }
     },
     "e099540bc0464773aa3a26a2bb3041ac": {
      "model_module": "@jupyter-widgets/controls",
      "model_module_version": "1.5.0",
      "model_name": "HTMLModel",
      "state": {
       "layout": "IPY_MODEL_72b6036385cb4c82821d47001bf19237",
       "style": "IPY_MODEL_b3e81f98a9b541d7ab80af828683e98e",
       "value": " or "
      }
     },
     "e10e2bee4c754d64ad133cb052a15513": {
      "model_module": "@jupyter-widgets/controls",
      "model_module_version": "1.5.0",
      "model_name": "DescriptionStyleModel",
      "state": {
       "description_width": ""
      }
     },
     "e11f540676dd448bb9e59a826b806544": {
      "model_module": "@jupyter-widgets/controls",
      "model_module_version": "1.5.0",
      "model_name": "VBoxModel",
      "state": {
       "layout": "IPY_MODEL_be402c3d239747da8d27b600c57b11e6"
      }
     },
     "e1e5d00842eb4d77be2fe6f09a40e72a": {
      "model_module": "@jupyter-widgets/base",
      "model_module_version": "1.2.0",
      "model_name": "LayoutModel",
      "state": {}
     },
     "e3fa6b0239244d4e85e5ac658833b326": {
      "model_module": "@jupyter-widgets/base",
      "model_module_version": "1.2.0",
      "model_name": "LayoutModel",
      "state": {}
     },
     "e59c8a29efd44e18a69331265b55b72e": {
      "model_module": "@jupyter-widgets/controls",
      "model_module_version": "1.5.0",
      "model_name": "VBoxModel",
      "state": {
       "layout": "IPY_MODEL_ee9ea73d56b246ada81db651a322e568"
      }
     },
     "e6155264d52a44b3bc81c6fd6811ea52": {
      "model_module": "@jupyter-widgets/base",
      "model_module_version": "1.2.0",
      "model_name": "LayoutModel",
      "state": {}
     },
     "e7b7d2a9627c4e5b9f0ff7a81a85caa3": {
      "model_module": "@jupyter-widgets/base",
      "model_module_version": "1.2.0",
      "model_name": "LayoutModel",
      "state": {
       "width": "100%"
      }
     },
     "e7c3fbc006894c45b1fa942d6935a2df": {
      "model_module": "@jupyter-widgets/controls",
      "model_module_version": "1.5.0",
      "model_name": "VBoxModel",
      "state": {
       "layout": "IPY_MODEL_597beb589ded4c92aa8050e1fc767d16"
      }
     },
     "e80d5e6f8f1d415ebe57ead91c82669a": {
      "model_module": "@jupyter-widgets/base",
      "model_module_version": "1.2.0",
      "model_name": "LayoutModel",
      "state": {}
     },
     "ebfebc3401ae4afcaa99cb59e3c415f6": {
      "model_module": "@jupyter-widgets/base",
      "model_module_version": "1.2.0",
      "model_name": "LayoutModel",
      "state": {}
     },
     "ee9ea73d56b246ada81db651a322e568": {
      "model_module": "@jupyter-widgets/base",
      "model_module_version": "1.2.0",
      "model_name": "LayoutModel",
      "state": {}
     },
     "f0405cfb63524550b347d6188b198879": {
      "model_module": "@jupyter-widgets/controls",
      "model_module_version": "1.5.0",
      "model_name": "VBoxModel",
      "state": {
       "_dom_classes": [
        "bamboolib-window",
        "bamboolib-full-modal"
       ],
       "layout": "IPY_MODEL_a1271c40aae141a48e604f3087b8216d"
      }
     },
     "f045cb02e0c2479db74a713b451bc33b": {
      "model_module": "@jupyter-widgets/controls",
      "model_module_version": "1.5.0",
      "model_name": "HBoxModel",
      "state": {
       "layout": "IPY_MODEL_69d9d19897dc476dacb0da5a1f422440"
      }
     },
     "f2181f9ddc5943a2b7f20e32923d8c1f": {
      "model_module": "@jupyter-widgets/controls",
      "model_module_version": "1.5.0",
      "model_name": "VBoxModel",
      "state": {
       "children": [
        "IPY_MODEL_9fab32c2d68c4a2cb4f4b4252af269eb"
       ],
       "layout": "IPY_MODEL_fd57d9a8c6994b43b7aacc2d5c54a5e0"
      }
     },
     "f2a1fc0f5443467382db1d94e0d4a1f2": {
      "model_module": "@jupyter-widgets/controls",
      "model_module_version": "1.5.0",
      "model_name": "HTMLModel",
      "state": {
       "layout": "IPY_MODEL_7b5bf1d7b59a44f1860fe92c058c4a72",
       "style": "IPY_MODEL_c56f9a976a5e4f3288f999c2c6b53507",
       "value": " or "
      }
     },
     "f3a97d1652844146b9615afdb2198407": {
      "model_module": "@jupyter-widgets/base",
      "model_module_version": "1.2.0",
      "model_name": "LayoutModel",
      "state": {}
     },
     "f3de263461544ad78b0963712c44909c": {
      "model_module": "@jupyter-widgets/base",
      "model_module_version": "1.2.0",
      "model_name": "LayoutModel",
      "state": {}
     },
     "f5d1499759fc43f3aec47be474f43296": {
      "model_module": "@jupyter-widgets/controls",
      "model_module_version": "1.5.0",
      "model_name": "HTMLModel",
      "state": {
       "layout": "IPY_MODEL_31dfb82d12094449b908892b033b2766",
       "style": "IPY_MODEL_d307b533eee64ee09028d45fe663b401",
       "value": "Loading ..."
      }
     },
     "f641bab98b3546d09e1b33d5787b450c": {
      "model_module": "@jupyter-widgets/base",
      "model_module_version": "1.2.0",
      "model_name": "LayoutModel",
      "state": {}
     },
     "f770c24e9fba46d58439cf96589cbc45": {
      "model_module": "@jupyter-widgets/controls",
      "model_module_version": "1.5.0",
      "model_name": "DescriptionStyleModel",
      "state": {
       "description_width": ""
      }
     },
     "f7fb97e9926f48d38c8f413083ca0ae9": {
      "model_module": "@jupyter-widgets/controls",
      "model_module_version": "1.5.0",
      "model_name": "VBoxModel",
      "state": {
       "layout": "IPY_MODEL_211e60c8644f4cdd813ed5e976e48c30"
      }
     },
     "f83f929e58b6439392b5ea3dd2f2a746": {
      "model_module": "@jupyter-widgets/controls",
      "model_module_version": "1.5.0",
      "model_name": "HBoxModel",
      "state": {
       "_dom_classes": [
        "bamboolib-overflow-visible"
       ],
       "layout": "IPY_MODEL_92665504e389405e9b6c0473de41fc2d"
      }
     },
     "f9fff02c5c6a4ead802bb60dc1181cb3": {
      "model_module": "@jupyter-widgets/controls",
      "model_module_version": "1.5.0",
      "model_name": "HTMLModel",
      "state": {
       "layout": "IPY_MODEL_90d6f01f1f55492bb03c15af345c2ff5",
       "style": "IPY_MODEL_f770c24e9fba46d58439cf96589cbc45",
       "value": "Loading ..."
      }
     },
     "faaa783649914b40a72f57efe6a18613": {
      "model_module": "@jupyter-widgets/base",
      "model_module_version": "1.2.0",
      "model_name": "LayoutModel",
      "state": {}
     },
     "fae2944006df4790b414c6ce6cf36a1e": {
      "model_module": "@jupyter-widgets/base",
      "model_module_version": "1.2.0",
      "model_name": "LayoutModel",
      "state": {}
     },
     "fb4a5c322feb47b59a5efc5c6c10332c": {
      "model_module": "@jupyter-widgets/controls",
      "model_module_version": "1.5.0",
      "model_name": "HTMLModel",
      "state": {
       "layout": "IPY_MODEL_6f308d6a522f476cb314896c947d7810",
       "style": "IPY_MODEL_bf1e1c25423c4bb4b86df4397088cb83",
       "value": "bamboolib is loading ..."
      }
     },
     "fd57d9a8c6994b43b7aacc2d5c54a5e0": {
      "model_module": "@jupyter-widgets/base",
      "model_module_version": "1.2.0",
      "model_name": "LayoutModel",
      "state": {}
     },
     "fe61b7eefd2f4c748f87c9ee863de62c": {
      "model_module": "@jupyter-widgets/base",
      "model_module_version": "1.2.0",
      "model_name": "LayoutModel",
      "state": {}
     },
     "fecb3e2fb3d543fb907aff01f8ae6659": {
      "model_module": "@jupyter-widgets/base",
      "model_module_version": "1.2.0",
      "model_name": "LayoutModel",
      "state": {}
     }
    },
    "version_major": 2,
    "version_minor": 0
   }
  }
 },
 "nbformat": 4,
 "nbformat_minor": 5
}
